{
 "cells": [
  {
   "cell_type": "markdown",
   "metadata": {},
   "source": [
    "# Projeto Grupo 6"
   ]
  },
  {
   "cell_type": "markdown",
   "metadata": {},
   "source": [
    "### Requirements setup"
   ]
  },
  {
   "cell_type": "code",
   "execution_count": 2,
   "metadata": {},
   "outputs": [
    {
     "name": "stdout",
     "output_type": "stream",
     "text": [
      "Requirement already satisfied: pandas in c:\\python\\lib\\site-packages (2.2.3)\n",
      "Requirement already satisfied: numpy>=1.26.0 in c:\\python\\lib\\site-packages (from pandas) (2.2.2)\n",
      "Requirement already satisfied: python-dateutil>=2.8.2 in c:\\python\\lib\\site-packages (from pandas) (2.9.0.post0)\n",
      "Requirement already satisfied: pytz>=2020.1 in c:\\python\\lib\\site-packages (from pandas) (2025.1)\n",
      "Requirement already satisfied: tzdata>=2022.7 in c:\\python\\lib\\site-packages (from pandas) (2025.1)\n",
      "Requirement already satisfied: six>=1.5 in c:\\python\\lib\\site-packages (from python-dateutil>=2.8.2->pandas) (1.17.0)\n",
      "Note: you may need to restart the kernel to use updated packages.\n"
     ]
    },
    {
     "name": "stderr",
     "output_type": "stream",
     "text": [
      "\n",
      "[notice] A new release of pip is available: 25.0.1 -> 25.1.1\n",
      "[notice] To update, run: python.exe -m pip install --upgrade pip\n"
     ]
    },
    {
     "name": "stdout",
     "output_type": "stream",
     "text": [
      "Requirement already satisfied: openpyxl in c:\\python\\lib\\site-packages (3.1.5)\n",
      "Requirement already satisfied: et-xmlfile in c:\\python\\lib\\site-packages (from openpyxl) (2.0.0)\n",
      "Note: you may need to restart the kernel to use updated packages.\n"
     ]
    },
    {
     "name": "stderr",
     "output_type": "stream",
     "text": [
      "\n",
      "[notice] A new release of pip is available: 25.0.1 -> 25.1.1\n",
      "[notice] To update, run: python.exe -m pip install --upgrade pip\n"
     ]
    }
   ],
   "source": [
    "%pip install pandas\n",
    "%pip install openpyxl"
   ]
  },
  {
   "cell_type": "code",
   "execution_count": 40,
   "metadata": {},
   "outputs": [
    {
     "name": "stdout",
     "output_type": "stream",
     "text": [
      "Collecting scikit-learn\n",
      "  Downloading scikit_learn-1.6.1-cp313-cp313-win_amd64.whl.metadata (15 kB)\n",
      "Requirement already satisfied: numpy>=1.19.5 in c:\\python\\lib\\site-packages (from scikit-learn) (2.2.2)\n",
      "Collecting scipy>=1.6.0 (from scikit-learn)\n",
      "  Downloading scipy-1.15.3-cp313-cp313-win_amd64.whl.metadata (60 kB)\n",
      "Collecting joblib>=1.2.0 (from scikit-learn)\n",
      "  Downloading joblib-1.5.0-py3-none-any.whl.metadata (5.6 kB)\n",
      "Collecting threadpoolctl>=3.1.0 (from scikit-learn)\n",
      "  Downloading threadpoolctl-3.6.0-py3-none-any.whl.metadata (13 kB)\n",
      "Downloading scikit_learn-1.6.1-cp313-cp313-win_amd64.whl (11.1 MB)\n",
      "   ---------------------------------------- 0.0/11.1 MB ? eta -:--:--\n",
      "   -------------- ------------------------- 3.9/11.1 MB 25.0 MB/s eta 0:00:01\n",
      "   ---------------------------------------- 11.1/11.1 MB 32.4 MB/s eta 0:00:00\n",
      "Downloading joblib-1.5.0-py3-none-any.whl (307 kB)\n",
      "Downloading scipy-1.15.3-cp313-cp313-win_amd64.whl (41.0 MB)\n",
      "   ---------------------------------------- 0.0/41.0 MB ? eta -:--:--\n",
      "   ------ --------------------------------- 6.6/41.0 MB 60.9 MB/s eta 0:00:01\n",
      "   --------------------- ------------------ 22.0/41.0 MB 51.8 MB/s eta 0:00:01\n",
      "   ------------------------------------- -- 38.5/41.0 MB 60.2 MB/s eta 0:00:01\n",
      "   ---------------------------------------  40.9/41.0 MB 60.3 MB/s eta 0:00:01\n",
      "   ---------------------------------------- 41.0/41.0 MB 43.9 MB/s eta 0:00:00\n",
      "Downloading threadpoolctl-3.6.0-py3-none-any.whl (18 kB)\n",
      "Installing collected packages: threadpoolctl, scipy, joblib, scikit-learn\n",
      "Successfully installed joblib-1.5.0 scikit-learn-1.6.1 scipy-1.15.3 threadpoolctl-3.6.0\n",
      "Note: you may need to restart the kernel to use updated packages.\n"
     ]
    },
    {
     "name": "stderr",
     "output_type": "stream",
     "text": [
      "\n",
      "[notice] A new release of pip is available: 25.0.1 -> 25.1.1\n",
      "[notice] To update, run: python.exe -m pip install --upgrade pip\n"
     ]
    }
   ],
   "source": [
    "%pip install scikit-learn"
   ]
  },
  {
   "cell_type": "code",
   "execution_count": 3,
   "metadata": {},
   "outputs": [],
   "source": [
    "import matplotlib.pyplot as plt\n",
    "import pandas as pd\n",
    "import numpy as np"
   ]
  },
  {
   "cell_type": "markdown",
   "metadata": {},
   "source": [
    "# Load the dataset into a pandas DataFrame."
   ]
  },
  {
   "cell_type": "code",
   "execution_count": 4,
   "metadata": {},
   "outputs": [],
   "source": [
    "df = pd.read_csv('netflix.csv', sep=',', index_col=0)\n",
    "#Using index_col=0 parameter ensures pandas will use the first CSV column as the DF's index, this avoids duplicate indexes"
   ]
  },
  {
   "cell_type": "code",
   "execution_count": 5,
   "metadata": {},
   "outputs": [
    {
     "data": {
      "text/html": [
       "<div>\n",
       "<style scoped>\n",
       "    .dataframe tbody tr th:only-of-type {\n",
       "        vertical-align: middle;\n",
       "    }\n",
       "\n",
       "    .dataframe tbody tr th {\n",
       "        vertical-align: top;\n",
       "    }\n",
       "\n",
       "    .dataframe thead th {\n",
       "        text-align: right;\n",
       "    }\n",
       "</style>\n",
       "<table border=\"1\" class=\"dataframe\">\n",
       "  <thead>\n",
       "    <tr style=\"text-align: right;\">\n",
       "      <th></th>\n",
       "      <th>id</th>\n",
       "      <th>title</th>\n",
       "      <th>type</th>\n",
       "      <th>description</th>\n",
       "      <th>release_year</th>\n",
       "      <th>age_certification</th>\n",
       "      <th>runtime</th>\n",
       "      <th>imdb_id</th>\n",
       "      <th>imdb_score</th>\n",
       "      <th>imdb_votes</th>\n",
       "    </tr>\n",
       "    <tr>\n",
       "      <th>index</th>\n",
       "      <th></th>\n",
       "      <th></th>\n",
       "      <th></th>\n",
       "      <th></th>\n",
       "      <th></th>\n",
       "      <th></th>\n",
       "      <th></th>\n",
       "      <th></th>\n",
       "      <th></th>\n",
       "      <th></th>\n",
       "    </tr>\n",
       "  </thead>\n",
       "  <tbody>\n",
       "    <tr>\n",
       "      <th>0</th>\n",
       "      <td>tm84618</td>\n",
       "      <td>Taxi Driver</td>\n",
       "      <td>MOVIE</td>\n",
       "      <td>A mentally unstable Vietnam War veteran works ...</td>\n",
       "      <td>1976</td>\n",
       "      <td>R</td>\n",
       "      <td>113</td>\n",
       "      <td>tt0075314</td>\n",
       "      <td>8.3</td>\n",
       "      <td>795222.0</td>\n",
       "    </tr>\n",
       "    <tr>\n",
       "      <th>1</th>\n",
       "      <td>tm127384</td>\n",
       "      <td>Monty Python and the Holy Grail</td>\n",
       "      <td>MOVIE</td>\n",
       "      <td>King Arthur, accompanied by his squire, recrui...</td>\n",
       "      <td>1975</td>\n",
       "      <td>PG</td>\n",
       "      <td>91</td>\n",
       "      <td>tt0071853</td>\n",
       "      <td>8.2</td>\n",
       "      <td>530877.0</td>\n",
       "    </tr>\n",
       "    <tr>\n",
       "      <th>2</th>\n",
       "      <td>tm70993</td>\n",
       "      <td>Life of Brian</td>\n",
       "      <td>MOVIE</td>\n",
       "      <td>Brian Cohen is an average young Jewish man, bu...</td>\n",
       "      <td>1979</td>\n",
       "      <td>R</td>\n",
       "      <td>94</td>\n",
       "      <td>tt0079470</td>\n",
       "      <td>8.0</td>\n",
       "      <td>392419.0</td>\n",
       "    </tr>\n",
       "    <tr>\n",
       "      <th>3</th>\n",
       "      <td>tm190788</td>\n",
       "      <td>The Exorcist</td>\n",
       "      <td>MOVIE</td>\n",
       "      <td>12-year-old Regan MacNeil begins to adapt an e...</td>\n",
       "      <td>1973</td>\n",
       "      <td>R</td>\n",
       "      <td>133</td>\n",
       "      <td>tt0070047</td>\n",
       "      <td>8.1</td>\n",
       "      <td>391942.0</td>\n",
       "    </tr>\n",
       "    <tr>\n",
       "      <th>4</th>\n",
       "      <td>ts22164</td>\n",
       "      <td>Monty Python's Flying Circus</td>\n",
       "      <td>SHOW</td>\n",
       "      <td>A British sketch comedy series with the shows ...</td>\n",
       "      <td>1969</td>\n",
       "      <td>TV-14</td>\n",
       "      <td>30</td>\n",
       "      <td>tt0063929</td>\n",
       "      <td>8.8</td>\n",
       "      <td>72895.0</td>\n",
       "    </tr>\n",
       "  </tbody>\n",
       "</table>\n",
       "</div>"
      ],
      "text/plain": [
       "             id                            title   type  \\\n",
       "index                                                     \n",
       "0       tm84618                      Taxi Driver  MOVIE   \n",
       "1      tm127384  Monty Python and the Holy Grail  MOVIE   \n",
       "2       tm70993                    Life of Brian  MOVIE   \n",
       "3      tm190788                     The Exorcist  MOVIE   \n",
       "4       ts22164     Monty Python's Flying Circus   SHOW   \n",
       "\n",
       "                                             description  release_year  \\\n",
       "index                                                                    \n",
       "0      A mentally unstable Vietnam War veteran works ...          1976   \n",
       "1      King Arthur, accompanied by his squire, recrui...          1975   \n",
       "2      Brian Cohen is an average young Jewish man, bu...          1979   \n",
       "3      12-year-old Regan MacNeil begins to adapt an e...          1973   \n",
       "4      A British sketch comedy series with the shows ...          1969   \n",
       "\n",
       "      age_certification  runtime    imdb_id  imdb_score  imdb_votes  \n",
       "index                                                                \n",
       "0                     R      113  tt0075314         8.3    795222.0  \n",
       "1                    PG       91  tt0071853         8.2    530877.0  \n",
       "2                     R       94  tt0079470         8.0    392419.0  \n",
       "3                     R      133  tt0070047         8.1    391942.0  \n",
       "4                 TV-14       30  tt0063929         8.8     72895.0  "
      ]
     },
     "execution_count": 5,
     "metadata": {},
     "output_type": "execute_result"
    }
   ],
   "source": [
    "df.head()"
   ]
  },
  {
   "cell_type": "markdown",
   "metadata": {},
   "source": [
    "# Show basic information about the DataFrame (data types)."
   ]
  },
  {
   "cell_type": "code",
   "execution_count": 6,
   "metadata": {},
   "outputs": [
    {
     "data": {
      "text/plain": [
       "id                    object\n",
       "title                 object\n",
       "type                  object\n",
       "description           object\n",
       "release_year           int64\n",
       "age_certification     object\n",
       "runtime                int64\n",
       "imdb_id               object\n",
       "imdb_score           float64\n",
       "imdb_votes           float64\n",
       "dtype: object"
      ]
     },
     "execution_count": 6,
     "metadata": {},
     "output_type": "execute_result"
    }
   ],
   "source": [
    "df.dtypes"
   ]
  },
  {
   "cell_type": "markdown",
   "metadata": {},
   "source": [
    "# Show basic information about the DataFrame (Index dtype; columns; non-null Values & Memory Usage)."
   ]
  },
  {
   "cell_type": "code",
   "execution_count": 7,
   "metadata": {},
   "outputs": [
    {
     "name": "stdout",
     "output_type": "stream",
     "text": [
      "<class 'pandas.core.frame.DataFrame'>\n",
      "Index: 5283 entries, 0 to 5282\n",
      "Data columns (total 10 columns):\n",
      " #   Column             Non-Null Count  Dtype  \n",
      "---  ------             --------------  -----  \n",
      " 0   id                 5283 non-null   object \n",
      " 1   title              5283 non-null   object \n",
      " 2   type               5283 non-null   object \n",
      " 3   description        5278 non-null   object \n",
      " 4   release_year       5283 non-null   int64  \n",
      " 5   age_certification  2998 non-null   object \n",
      " 6   runtime            5283 non-null   int64  \n",
      " 7   imdb_id            5283 non-null   object \n",
      " 8   imdb_score         5283 non-null   float64\n",
      " 9   imdb_votes         5267 non-null   float64\n",
      "dtypes: float64(2), int64(2), object(6)\n",
      "memory usage: 454.0+ KB\n"
     ]
    }
   ],
   "source": [
    "df.info()"
   ]
  },
  {
   "cell_type": "markdown",
   "metadata": {},
   "source": [
    "# Results above show that columns 4, 6 and 10 have missing values"
   ]
  },
  {
   "cell_type": "markdown",
   "metadata": {},
   "source": [
    "### Calculate and display summary statistics for numerical columns."
   ]
  },
  {
   "cell_type": "code",
   "execution_count": 8,
   "metadata": {},
   "outputs": [
    {
     "data": {
      "text/html": [
       "<div>\n",
       "<style scoped>\n",
       "    .dataframe tbody tr th:only-of-type {\n",
       "        vertical-align: middle;\n",
       "    }\n",
       "\n",
       "    .dataframe tbody tr th {\n",
       "        vertical-align: top;\n",
       "    }\n",
       "\n",
       "    .dataframe thead th {\n",
       "        text-align: right;\n",
       "    }\n",
       "</style>\n",
       "<table border=\"1\" class=\"dataframe\">\n",
       "  <thead>\n",
       "    <tr style=\"text-align: right;\">\n",
       "      <th></th>\n",
       "      <th>release_year</th>\n",
       "      <th>runtime</th>\n",
       "      <th>imdb_score</th>\n",
       "      <th>imdb_votes</th>\n",
       "    </tr>\n",
       "  </thead>\n",
       "  <tbody>\n",
       "    <tr>\n",
       "      <th>count</th>\n",
       "      <td>5283.000000</td>\n",
       "      <td>5283.000000</td>\n",
       "      <td>5283.000000</td>\n",
       "      <td>5.267000e+03</td>\n",
       "    </tr>\n",
       "    <tr>\n",
       "      <th>mean</th>\n",
       "      <td>2015.879992</td>\n",
       "      <td>79.199886</td>\n",
       "      <td>6.533447</td>\n",
       "      <td>2.340719e+04</td>\n",
       "    </tr>\n",
       "    <tr>\n",
       "      <th>std</th>\n",
       "      <td>7.346098</td>\n",
       "      <td>38.915974</td>\n",
       "      <td>1.160932</td>\n",
       "      <td>8.713432e+04</td>\n",
       "    </tr>\n",
       "    <tr>\n",
       "      <th>min</th>\n",
       "      <td>1953.000000</td>\n",
       "      <td>0.000000</td>\n",
       "      <td>1.500000</td>\n",
       "      <td>5.000000e+00</td>\n",
       "    </tr>\n",
       "    <tr>\n",
       "      <th>25%</th>\n",
       "      <td>2015.000000</td>\n",
       "      <td>45.000000</td>\n",
       "      <td>5.800000</td>\n",
       "      <td>5.210000e+02</td>\n",
       "    </tr>\n",
       "    <tr>\n",
       "      <th>50%</th>\n",
       "      <td>2018.000000</td>\n",
       "      <td>87.000000</td>\n",
       "      <td>6.600000</td>\n",
       "      <td>2.279000e+03</td>\n",
       "    </tr>\n",
       "    <tr>\n",
       "      <th>75%</th>\n",
       "      <td>2020.000000</td>\n",
       "      <td>106.000000</td>\n",
       "      <td>7.400000</td>\n",
       "      <td>1.014400e+04</td>\n",
       "    </tr>\n",
       "    <tr>\n",
       "      <th>max</th>\n",
       "      <td>2022.000000</td>\n",
       "      <td>235.000000</td>\n",
       "      <td>9.600000</td>\n",
       "      <td>2.268288e+06</td>\n",
       "    </tr>\n",
       "  </tbody>\n",
       "</table>\n",
       "</div>"
      ],
      "text/plain": [
       "       release_year      runtime   imdb_score    imdb_votes\n",
       "count   5283.000000  5283.000000  5283.000000  5.267000e+03\n",
       "mean    2015.879992    79.199886     6.533447  2.340719e+04\n",
       "std        7.346098    38.915974     1.160932  8.713432e+04\n",
       "min     1953.000000     0.000000     1.500000  5.000000e+00\n",
       "25%     2015.000000    45.000000     5.800000  5.210000e+02\n",
       "50%     2018.000000    87.000000     6.600000  2.279000e+03\n",
       "75%     2020.000000   106.000000     7.400000  1.014400e+04\n",
       "max     2022.000000   235.000000     9.600000  2.268288e+06"
      ]
     },
     "execution_count": 8,
     "metadata": {},
     "output_type": "execute_result"
    }
   ],
   "source": [
    "df.describe()"
   ]
  },
  {
   "cell_type": "markdown",
   "metadata": {},
   "source": [
    "# Data cleaning and preparation\n",
    "### Check for missing values and handle them appropriately (e.g., drop or fill)."
   ]
  },
  {
   "cell_type": "code",
   "execution_count": 9,
   "metadata": {},
   "outputs": [],
   "source": [
    "# Creating new df (df_fix) and assigning value of original df, minus detected null rows in column 4 (description)\n",
    "df_fix = df.dropna(subset=['description'])\n"
   ]
  },
  {
   "cell_type": "code",
   "execution_count": 10,
   "metadata": {},
   "outputs": [
    {
     "data": {
      "text/html": [
       "<div>\n",
       "<style scoped>\n",
       "    .dataframe tbody tr th:only-of-type {\n",
       "        vertical-align: middle;\n",
       "    }\n",
       "\n",
       "    .dataframe tbody tr th {\n",
       "        vertical-align: top;\n",
       "    }\n",
       "\n",
       "    .dataframe thead th {\n",
       "        text-align: right;\n",
       "    }\n",
       "</style>\n",
       "<table border=\"1\" class=\"dataframe\">\n",
       "  <thead>\n",
       "    <tr style=\"text-align: right;\">\n",
       "      <th></th>\n",
       "      <th>id</th>\n",
       "      <th>title</th>\n",
       "      <th>type</th>\n",
       "      <th>description</th>\n",
       "      <th>release_year</th>\n",
       "      <th>age_certification</th>\n",
       "      <th>runtime</th>\n",
       "      <th>imdb_id</th>\n",
       "      <th>imdb_score</th>\n",
       "      <th>imdb_votes</th>\n",
       "    </tr>\n",
       "    <tr>\n",
       "      <th>index</th>\n",
       "      <th></th>\n",
       "      <th></th>\n",
       "      <th></th>\n",
       "      <th></th>\n",
       "      <th></th>\n",
       "      <th></th>\n",
       "      <th></th>\n",
       "      <th></th>\n",
       "      <th></th>\n",
       "      <th></th>\n",
       "    </tr>\n",
       "  </thead>\n",
       "  <tbody>\n",
       "    <tr>\n",
       "      <th>30</th>\n",
       "      <td>tm75975</td>\n",
       "      <td>Prince</td>\n",
       "      <td>MOVIE</td>\n",
       "      <td>To better himself, a spoiled prince temporaril...</td>\n",
       "      <td>1969</td>\n",
       "      <td>NaN</td>\n",
       "      <td>152</td>\n",
       "      <td>tt0064842</td>\n",
       "      <td>6.9</td>\n",
       "      <td>168.0</td>\n",
       "    </tr>\n",
       "    <tr>\n",
       "      <th>31</th>\n",
       "      <td>tm107372</td>\n",
       "      <td>Manoranjan</td>\n",
       "      <td>MOVIE</td>\n",
       "      <td>Havaldar Ratan is a rookie at the local police...</td>\n",
       "      <td>1974</td>\n",
       "      <td>NaN</td>\n",
       "      <td>162</td>\n",
       "      <td>tt0071811</td>\n",
       "      <td>6.5</td>\n",
       "      <td>236.0</td>\n",
       "    </tr>\n",
       "    <tr>\n",
       "      <th>32</th>\n",
       "      <td>tm200475</td>\n",
       "      <td>Beirut, Oh Beirut</td>\n",
       "      <td>MOVIE</td>\n",
       "      <td>In the aftermath of the 1967 defeat, four youn...</td>\n",
       "      <td>1975</td>\n",
       "      <td>NaN</td>\n",
       "      <td>110</td>\n",
       "      <td>tt0169599</td>\n",
       "      <td>6.5</td>\n",
       "      <td>106.0</td>\n",
       "    </tr>\n",
       "    <tr>\n",
       "      <th>33</th>\n",
       "      <td>tm259855</td>\n",
       "      <td>We Are All for the Fatherland</td>\n",
       "      <td>MOVIE</td>\n",
       "      <td>After the 1978 Israeli invasion of Lebanon, ch...</td>\n",
       "      <td>1979</td>\n",
       "      <td>NaN</td>\n",
       "      <td>74</td>\n",
       "      <td>tt0170799</td>\n",
       "      <td>6.2</td>\n",
       "      <td>43.0</td>\n",
       "    </tr>\n",
       "    <tr>\n",
       "      <th>34</th>\n",
       "      <td>tm259684</td>\n",
       "      <td>Whispers</td>\n",
       "      <td>MOVIE</td>\n",
       "      <td>At every station, between sites filled with po...</td>\n",
       "      <td>1980</td>\n",
       "      <td>NaN</td>\n",
       "      <td>93</td>\n",
       "      <td>tt0170803</td>\n",
       "      <td>7.8</td>\n",
       "      <td>75.0</td>\n",
       "    </tr>\n",
       "    <tr>\n",
       "      <th>35</th>\n",
       "      <td>tm344089</td>\n",
       "      <td>Lal Patthar</td>\n",
       "      <td>MOVIE</td>\n",
       "      <td>Raja Kumar Bahadur alias Gyan Shankar Rai has ...</td>\n",
       "      <td>1971</td>\n",
       "      <td>NaN</td>\n",
       "      <td>153</td>\n",
       "      <td>tt0237395</td>\n",
       "      <td>6.2</td>\n",
       "      <td>137.0</td>\n",
       "    </tr>\n",
       "    <tr>\n",
       "      <th>36</th>\n",
       "      <td>tm358653</td>\n",
       "      <td>Ujala</td>\n",
       "      <td>MOVIE</td>\n",
       "      <td>An honest man dreams of a better life for his ...</td>\n",
       "      <td>1959</td>\n",
       "      <td>NaN</td>\n",
       "      <td>142</td>\n",
       "      <td>tt0157132</td>\n",
       "      <td>6.7</td>\n",
       "      <td>78.0</td>\n",
       "    </tr>\n",
       "    <tr>\n",
       "      <th>37</th>\n",
       "      <td>tm100027</td>\n",
       "      <td>Alibaba Aur 40 Chor</td>\n",
       "      <td>MOVIE</td>\n",
       "      <td>The movie is based on the story of Ali Baba an...</td>\n",
       "      <td>1979</td>\n",
       "      <td>NaN</td>\n",
       "      <td>138</td>\n",
       "      <td>tt0079749</td>\n",
       "      <td>6.2</td>\n",
       "      <td>555.0</td>\n",
       "    </tr>\n",
       "    <tr>\n",
       "      <th>38</th>\n",
       "      <td>tm10204</td>\n",
       "      <td>Professor</td>\n",
       "      <td>MOVIE</td>\n",
       "      <td>Sita devi is a very strict aunt for a number o...</td>\n",
       "      <td>1962</td>\n",
       "      <td>NaN</td>\n",
       "      <td>163</td>\n",
       "      <td>tt0056379</td>\n",
       "      <td>6.8</td>\n",
       "      <td>285.0</td>\n",
       "    </tr>\n",
       "    <tr>\n",
       "      <th>39</th>\n",
       "      <td>tm403346</td>\n",
       "      <td>Chadi Jawani Budhe Nu</td>\n",
       "      <td>MOVIE</td>\n",
       "      <td>A small-time businessman (B.S. Sood) reaches t...</td>\n",
       "      <td>1976</td>\n",
       "      <td>NaN</td>\n",
       "      <td>135</td>\n",
       "      <td>tt3290368</td>\n",
       "      <td>4.6</td>\n",
       "      <td>14.0</td>\n",
       "    </tr>\n",
       "    <tr>\n",
       "      <th>40</th>\n",
       "      <td>tm16812</td>\n",
       "      <td>Bandie</td>\n",
       "      <td>MOVIE</td>\n",
       "      <td>Maharaj Brajbhan lives a wealthy lifestyle in ...</td>\n",
       "      <td>1978</td>\n",
       "      <td>NaN</td>\n",
       "      <td>141</td>\n",
       "      <td>tt1219315</td>\n",
       "      <td>4.2</td>\n",
       "      <td>35.0</td>\n",
       "    </tr>\n",
       "  </tbody>\n",
       "</table>\n",
       "</div>"
      ],
      "text/plain": [
       "             id                          title   type  \\\n",
       "index                                                   \n",
       "30      tm75975                         Prince  MOVIE   \n",
       "31     tm107372                     Manoranjan  MOVIE   \n",
       "32     tm200475              Beirut, Oh Beirut  MOVIE   \n",
       "33     tm259855  We Are All for the Fatherland  MOVIE   \n",
       "34     tm259684                       Whispers  MOVIE   \n",
       "35     tm344089                    Lal Patthar  MOVIE   \n",
       "36     tm358653                          Ujala  MOVIE   \n",
       "37     tm100027            Alibaba Aur 40 Chor  MOVIE   \n",
       "38      tm10204                      Professor  MOVIE   \n",
       "39     tm403346          Chadi Jawani Budhe Nu  MOVIE   \n",
       "40      tm16812                         Bandie  MOVIE   \n",
       "\n",
       "                                             description  release_year  \\\n",
       "index                                                                    \n",
       "30     To better himself, a spoiled prince temporaril...          1969   \n",
       "31     Havaldar Ratan is a rookie at the local police...          1974   \n",
       "32     In the aftermath of the 1967 defeat, four youn...          1975   \n",
       "33     After the 1978 Israeli invasion of Lebanon, ch...          1979   \n",
       "34     At every station, between sites filled with po...          1980   \n",
       "35     Raja Kumar Bahadur alias Gyan Shankar Rai has ...          1971   \n",
       "36     An honest man dreams of a better life for his ...          1959   \n",
       "37     The movie is based on the story of Ali Baba an...          1979   \n",
       "38     Sita devi is a very strict aunt for a number o...          1962   \n",
       "39     A small-time businessman (B.S. Sood) reaches t...          1976   \n",
       "40     Maharaj Brajbhan lives a wealthy lifestyle in ...          1978   \n",
       "\n",
       "      age_certification  runtime    imdb_id  imdb_score  imdb_votes  \n",
       "index                                                                \n",
       "30                  NaN      152  tt0064842         6.9       168.0  \n",
       "31                  NaN      162  tt0071811         6.5       236.0  \n",
       "32                  NaN      110  tt0169599         6.5       106.0  \n",
       "33                  NaN       74  tt0170799         6.2        43.0  \n",
       "34                  NaN       93  tt0170803         7.8        75.0  \n",
       "35                  NaN      153  tt0237395         6.2       137.0  \n",
       "36                  NaN      142  tt0157132         6.7        78.0  \n",
       "37                  NaN      138  tt0079749         6.2       555.0  \n",
       "38                  NaN      163  tt0056379         6.8       285.0  \n",
       "39                  NaN      135  tt3290368         4.6        14.0  \n",
       "40                  NaN      141  tt1219315         4.2        35.0  "
      ]
     },
     "execution_count": 10,
     "metadata": {},
     "output_type": "execute_result"
    }
   ],
   "source": [
    "#Slicing and returning entries 30 to 40 (41 not inclusive)\n",
    "df_fix.iloc[30:41]"
   ]
  },
  {
   "cell_type": "code",
   "execution_count": 11,
   "metadata": {},
   "outputs": [],
   "source": [
    "#Handling missing data in column 'age_certification'\n",
    "#Considered attributing the placeholder string \"Unrated\" to rows missing data instead of dropping the column entirely but opted for the latter\n",
    "\n",
    "df_fix = df_fix.drop(columns=['age_certification'])"
   ]
  },
  {
   "cell_type": "code",
   "execution_count": 12,
   "metadata": {},
   "outputs": [
    {
     "name": "stdout",
     "output_type": "stream",
     "text": [
      "<class 'pandas.core.frame.DataFrame'>\n",
      "Index: 5278 entries, 0 to 5282\n",
      "Data columns (total 9 columns):\n",
      " #   Column        Non-Null Count  Dtype  \n",
      "---  ------        --------------  -----  \n",
      " 0   id            5278 non-null   object \n",
      " 1   title         5278 non-null   object \n",
      " 2   type          5278 non-null   object \n",
      " 3   description   5278 non-null   object \n",
      " 4   release_year  5278 non-null   int64  \n",
      " 5   runtime       5278 non-null   int64  \n",
      " 6   imdb_id       5278 non-null   object \n",
      " 7   imdb_score    5278 non-null   float64\n",
      " 8   imdb_votes    5263 non-null   float64\n",
      "dtypes: float64(2), int64(2), object(5)\n",
      "memory usage: 412.3+ KB\n"
     ]
    }
   ],
   "source": [
    "df_fix.info()"
   ]
  },
  {
   "cell_type": "code",
   "execution_count": 13,
   "metadata": {},
   "outputs": [
    {
     "name": "stderr",
     "output_type": "stream",
     "text": [
      "C:\\Users\\vindi\\AppData\\Local\\Temp\\ipykernel_30728\\202374481.py:3: FutureWarning: A value is trying to be set on a copy of a DataFrame or Series through chained assignment using an inplace method.\n",
      "The behavior will change in pandas 3.0. This inplace method will never work because the intermediate object on which we are setting values always behaves as a copy.\n",
      "\n",
      "For example, when doing 'df[col].method(value, inplace=True)', try using 'df.method({col: value}, inplace=True)' or df[col] = df[col].method(value) instead, to perform the operation inplace on the original object.\n",
      "\n",
      "\n",
      "  df_fix['imdb_votes'].fillna((df_fix['imdb_votes'].mean()),inplace=True)\n"
     ]
    }
   ],
   "source": [
    "# Replacing missing values in the imdb_votes column with a numeric placeholder (mean)\n",
    "\n",
    "df_fix['imdb_votes'].fillna((df_fix['imdb_votes'].mean()),inplace=True)"
   ]
  },
  {
   "cell_type": "markdown",
   "metadata": {},
   "source": [
    "### Create a new column 'decade' based on the 'release_year' (e.g., 2010s, 2020s)."
   ]
  },
  {
   "cell_type": "code",
   "execution_count": 14,
   "metadata": {},
   "outputs": [],
   "source": [
    "df_fix['decade'] = (df_fix['release_year'] // 10) * 10\n",
    "\n",
    "#decade calculation formula example\n",
    "#decade = ( 2015//10​ ) × 10 = 2010\n",
    "# / -> True division, always returns a floating-point result\n",
    "# // -> Floor division, drops any fractional part of the returned number"
   ]
  },
  {
   "cell_type": "code",
   "execution_count": 15,
   "metadata": {},
   "outputs": [
    {
     "data": {
      "text/html": [
       "<div>\n",
       "<style scoped>\n",
       "    .dataframe tbody tr th:only-of-type {\n",
       "        vertical-align: middle;\n",
       "    }\n",
       "\n",
       "    .dataframe tbody tr th {\n",
       "        vertical-align: top;\n",
       "    }\n",
       "\n",
       "    .dataframe thead th {\n",
       "        text-align: right;\n",
       "    }\n",
       "</style>\n",
       "<table border=\"1\" class=\"dataframe\">\n",
       "  <thead>\n",
       "    <tr style=\"text-align: right;\">\n",
       "      <th></th>\n",
       "      <th>id</th>\n",
       "      <th>title</th>\n",
       "      <th>type</th>\n",
       "      <th>description</th>\n",
       "      <th>release_year</th>\n",
       "      <th>runtime</th>\n",
       "      <th>imdb_id</th>\n",
       "      <th>imdb_score</th>\n",
       "      <th>imdb_votes</th>\n",
       "      <th>decade</th>\n",
       "    </tr>\n",
       "    <tr>\n",
       "      <th>index</th>\n",
       "      <th></th>\n",
       "      <th></th>\n",
       "      <th></th>\n",
       "      <th></th>\n",
       "      <th></th>\n",
       "      <th></th>\n",
       "      <th></th>\n",
       "      <th></th>\n",
       "      <th></th>\n",
       "      <th></th>\n",
       "    </tr>\n",
       "  </thead>\n",
       "  <tbody>\n",
       "    <tr>\n",
       "      <th>0</th>\n",
       "      <td>tm84618</td>\n",
       "      <td>Taxi Driver</td>\n",
       "      <td>MOVIE</td>\n",
       "      <td>A mentally unstable Vietnam War veteran works ...</td>\n",
       "      <td>1976</td>\n",
       "      <td>113</td>\n",
       "      <td>tt0075314</td>\n",
       "      <td>8.3</td>\n",
       "      <td>795222.0</td>\n",
       "      <td>1970</td>\n",
       "    </tr>\n",
       "    <tr>\n",
       "      <th>1</th>\n",
       "      <td>tm127384</td>\n",
       "      <td>Monty Python and the Holy Grail</td>\n",
       "      <td>MOVIE</td>\n",
       "      <td>King Arthur, accompanied by his squire, recrui...</td>\n",
       "      <td>1975</td>\n",
       "      <td>91</td>\n",
       "      <td>tt0071853</td>\n",
       "      <td>8.2</td>\n",
       "      <td>530877.0</td>\n",
       "      <td>1970</td>\n",
       "    </tr>\n",
       "    <tr>\n",
       "      <th>2</th>\n",
       "      <td>tm70993</td>\n",
       "      <td>Life of Brian</td>\n",
       "      <td>MOVIE</td>\n",
       "      <td>Brian Cohen is an average young Jewish man, bu...</td>\n",
       "      <td>1979</td>\n",
       "      <td>94</td>\n",
       "      <td>tt0079470</td>\n",
       "      <td>8.0</td>\n",
       "      <td>392419.0</td>\n",
       "      <td>1970</td>\n",
       "    </tr>\n",
       "    <tr>\n",
       "      <th>3</th>\n",
       "      <td>tm190788</td>\n",
       "      <td>The Exorcist</td>\n",
       "      <td>MOVIE</td>\n",
       "      <td>12-year-old Regan MacNeil begins to adapt an e...</td>\n",
       "      <td>1973</td>\n",
       "      <td>133</td>\n",
       "      <td>tt0070047</td>\n",
       "      <td>8.1</td>\n",
       "      <td>391942.0</td>\n",
       "      <td>1970</td>\n",
       "    </tr>\n",
       "    <tr>\n",
       "      <th>4</th>\n",
       "      <td>ts22164</td>\n",
       "      <td>Monty Python's Flying Circus</td>\n",
       "      <td>SHOW</td>\n",
       "      <td>A British sketch comedy series with the shows ...</td>\n",
       "      <td>1969</td>\n",
       "      <td>30</td>\n",
       "      <td>tt0063929</td>\n",
       "      <td>8.8</td>\n",
       "      <td>72895.0</td>\n",
       "      <td>1960</td>\n",
       "    </tr>\n",
       "    <tr>\n",
       "      <th>5</th>\n",
       "      <td>tm14873</td>\n",
       "      <td>Dirty Harry</td>\n",
       "      <td>MOVIE</td>\n",
       "      <td>When a madman dubbed 'Scorpio' terrorizes San ...</td>\n",
       "      <td>1971</td>\n",
       "      <td>102</td>\n",
       "      <td>tt0066999</td>\n",
       "      <td>7.7</td>\n",
       "      <td>153463.0</td>\n",
       "      <td>1970</td>\n",
       "    </tr>\n",
       "    <tr>\n",
       "      <th>6</th>\n",
       "      <td>tm185072</td>\n",
       "      <td>My Fair Lady</td>\n",
       "      <td>MOVIE</td>\n",
       "      <td>A snobbish phonetics professor agrees to a wag...</td>\n",
       "      <td>1964</td>\n",
       "      <td>170</td>\n",
       "      <td>tt0058385</td>\n",
       "      <td>7.8</td>\n",
       "      <td>94121.0</td>\n",
       "      <td>1960</td>\n",
       "    </tr>\n",
       "    <tr>\n",
       "      <th>7</th>\n",
       "      <td>tm98978</td>\n",
       "      <td>The Blue Lagoon</td>\n",
       "      <td>MOVIE</td>\n",
       "      <td>Two small children and a ship's cook survive a...</td>\n",
       "      <td>1980</td>\n",
       "      <td>104</td>\n",
       "      <td>tt0080453</td>\n",
       "      <td>5.8</td>\n",
       "      <td>69053.0</td>\n",
       "      <td>1980</td>\n",
       "    </tr>\n",
       "    <tr>\n",
       "      <th>8</th>\n",
       "      <td>tm119281</td>\n",
       "      <td>Bonnie and Clyde</td>\n",
       "      <td>MOVIE</td>\n",
       "      <td>In the 1930s, bored waitress Bonnie Parker fal...</td>\n",
       "      <td>1967</td>\n",
       "      <td>110</td>\n",
       "      <td>tt0061418</td>\n",
       "      <td>7.7</td>\n",
       "      <td>111189.0</td>\n",
       "      <td>1960</td>\n",
       "    </tr>\n",
       "    <tr>\n",
       "      <th>9</th>\n",
       "      <td>tm67378</td>\n",
       "      <td>The Professionals</td>\n",
       "      <td>MOVIE</td>\n",
       "      <td>An arrogant Texas millionaire hires four adven...</td>\n",
       "      <td>1966</td>\n",
       "      <td>117</td>\n",
       "      <td>tt0060862</td>\n",
       "      <td>7.3</td>\n",
       "      <td>16168.0</td>\n",
       "      <td>1960</td>\n",
       "    </tr>\n",
       "    <tr>\n",
       "      <th>10</th>\n",
       "      <td>tm44204</td>\n",
       "      <td>The Guns of Navarone</td>\n",
       "      <td>MOVIE</td>\n",
       "      <td>A team of allied saboteurs are assigned an imp...</td>\n",
       "      <td>1961</td>\n",
       "      <td>158</td>\n",
       "      <td>tt0054953</td>\n",
       "      <td>7.5</td>\n",
       "      <td>50150.0</td>\n",
       "      <td>1960</td>\n",
       "    </tr>\n",
       "    <tr>\n",
       "      <th>11</th>\n",
       "      <td>tm69778</td>\n",
       "      <td>Lupin the Third: The Castle of Cagliostro</td>\n",
       "      <td>MOVIE</td>\n",
       "      <td>After a successful robbery leaves famed thief ...</td>\n",
       "      <td>1979</td>\n",
       "      <td>100</td>\n",
       "      <td>tt0079833</td>\n",
       "      <td>7.6</td>\n",
       "      <td>30277.0</td>\n",
       "      <td>1970</td>\n",
       "    </tr>\n",
       "    <tr>\n",
       "      <th>12</th>\n",
       "      <td>tm69997</td>\n",
       "      <td>Richard Pryor: Live in Concert</td>\n",
       "      <td>MOVIE</td>\n",
       "      <td>Richard Pryor delivers monologues on race, sex...</td>\n",
       "      <td>1979</td>\n",
       "      <td>78</td>\n",
       "      <td>tt0079807</td>\n",
       "      <td>8.1</td>\n",
       "      <td>5141.0</td>\n",
       "      <td>1970</td>\n",
       "    </tr>\n",
       "    <tr>\n",
       "      <th>13</th>\n",
       "      <td>tm96649</td>\n",
       "      <td>The Long Riders</td>\n",
       "      <td>MOVIE</td>\n",
       "      <td>The origins, exploits and the ultimate fate of...</td>\n",
       "      <td>1980</td>\n",
       "      <td>99</td>\n",
       "      <td>tt0081071</td>\n",
       "      <td>6.9</td>\n",
       "      <td>11329.0</td>\n",
       "      <td>1980</td>\n",
       "    </tr>\n",
       "    <tr>\n",
       "      <th>14</th>\n",
       "      <td>tm16479</td>\n",
       "      <td>White Christmas</td>\n",
       "      <td>MOVIE</td>\n",
       "      <td>Two talented song-and-dance men team up after ...</td>\n",
       "      <td>1954</td>\n",
       "      <td>115</td>\n",
       "      <td>tt0047673</td>\n",
       "      <td>7.5</td>\n",
       "      <td>42373.0</td>\n",
       "      <td>1950</td>\n",
       "    </tr>\n",
       "    <tr>\n",
       "      <th>15</th>\n",
       "      <td>tm135083</td>\n",
       "      <td>Cairo Station</td>\n",
       "      <td>MOVIE</td>\n",
       "      <td>Qinawi, a physically challenged peddler who ma...</td>\n",
       "      <td>1958</td>\n",
       "      <td>77</td>\n",
       "      <td>tt0051390</td>\n",
       "      <td>7.5</td>\n",
       "      <td>4385.0</td>\n",
       "      <td>1950</td>\n",
       "    </tr>\n",
       "    <tr>\n",
       "      <th>16</th>\n",
       "      <td>tm14491</td>\n",
       "      <td>The Queen</td>\n",
       "      <td>MOVIE</td>\n",
       "      <td>In 1967, New York City is host to the Miss All...</td>\n",
       "      <td>1968</td>\n",
       "      <td>68</td>\n",
       "      <td>tt0183686</td>\n",
       "      <td>7.2</td>\n",
       "      <td>1117.0</td>\n",
       "      <td>1960</td>\n",
       "    </tr>\n",
       "    <tr>\n",
       "      <th>17</th>\n",
       "      <td>tm89386</td>\n",
       "      <td>Hitler: A Career</td>\n",
       "      <td>MOVIE</td>\n",
       "      <td>A keen chronicle of the unlikely rise to power...</td>\n",
       "      <td>1977</td>\n",
       "      <td>150</td>\n",
       "      <td>tt0191182</td>\n",
       "      <td>7.5</td>\n",
       "      <td>2416.0</td>\n",
       "      <td>1970</td>\n",
       "    </tr>\n",
       "    <tr>\n",
       "      <th>18</th>\n",
       "      <td>tm156453</td>\n",
       "      <td>FTA</td>\n",
       "      <td>MOVIE</td>\n",
       "      <td>A documentary about a political troupe headed ...</td>\n",
       "      <td>1972</td>\n",
       "      <td>97</td>\n",
       "      <td>tt0068562</td>\n",
       "      <td>6.2</td>\n",
       "      <td>411.0</td>\n",
       "      <td>1970</td>\n",
       "    </tr>\n",
       "    <tr>\n",
       "      <th>19</th>\n",
       "      <td>tm27298</td>\n",
       "      <td>Saladin the Victorious</td>\n",
       "      <td>MOVIE</td>\n",
       "      <td>Saladin, the first sultan of Egypt and Syria, ...</td>\n",
       "      <td>1963</td>\n",
       "      <td>186</td>\n",
       "      <td>tt0057357</td>\n",
       "      <td>7.6</td>\n",
       "      <td>2470.0</td>\n",
       "      <td>1960</td>\n",
       "    </tr>\n",
       "    <tr>\n",
       "      <th>20</th>\n",
       "      <td>tm356209</td>\n",
       "      <td>Singapore</td>\n",
       "      <td>MOVIE</td>\n",
       "      <td>When his employee disappears in Singapore, Shy...</td>\n",
       "      <td>1960</td>\n",
       "      <td>158</td>\n",
       "      <td>tt0268639</td>\n",
       "      <td>6.4</td>\n",
       "      <td>82.0</td>\n",
       "      <td>1960</td>\n",
       "    </tr>\n",
       "    <tr>\n",
       "      <th>21</th>\n",
       "      <td>tm204541</td>\n",
       "      <td>Dark Waters</td>\n",
       "      <td>MOVIE</td>\n",
       "      <td>Ragab, a poor sailor, returns home to Alexandr...</td>\n",
       "      <td>1956</td>\n",
       "      <td>120</td>\n",
       "      <td>tt0049761</td>\n",
       "      <td>6.7</td>\n",
       "      <td>590.0</td>\n",
       "      <td>1950</td>\n",
       "    </tr>\n",
       "    <tr>\n",
       "      <th>22</th>\n",
       "      <td>tm14350</td>\n",
       "      <td>Alexandriaâ€¦ Why?</td>\n",
       "      <td>MOVIE</td>\n",
       "      <td>Set against the panoramic backdrop of war-torn...</td>\n",
       "      <td>1979</td>\n",
       "      <td>133</td>\n",
       "      <td>tt0077751</td>\n",
       "      <td>7.2</td>\n",
       "      <td>1689.0</td>\n",
       "      <td>1970</td>\n",
       "    </tr>\n",
       "    <tr>\n",
       "      <th>23</th>\n",
       "      <td>tm102287</td>\n",
       "      <td>Raya and Sakina</td>\n",
       "      <td>MOVIE</td>\n",
       "      <td>Dramatic rendition of a real life crime wave t...</td>\n",
       "      <td>1953</td>\n",
       "      <td>105</td>\n",
       "      <td>tt0316472</td>\n",
       "      <td>6.8</td>\n",
       "      <td>231.0</td>\n",
       "      <td>1950</td>\n",
       "    </tr>\n",
       "    <tr>\n",
       "      <th>24</th>\n",
       "      <td>tm76557</td>\n",
       "      <td>No Longer Kids</td>\n",
       "      <td>MOVIE</td>\n",
       "      <td>By coincidence, Ahmad discovers that his fathe...</td>\n",
       "      <td>1979</td>\n",
       "      <td>235</td>\n",
       "      <td>tt8312792</td>\n",
       "      <td>9.0</td>\n",
       "      <td>943.0</td>\n",
       "      <td>1970</td>\n",
       "    </tr>\n",
       "    <tr>\n",
       "      <th>25</th>\n",
       "      <td>tm71909</td>\n",
       "      <td>Amrapali</td>\n",
       "      <td>MOVIE</td>\n",
       "      <td>After a failed conquest, Emperor Ajaatshatru p...</td>\n",
       "      <td>1966</td>\n",
       "      <td>120</td>\n",
       "      <td>tt0060104</td>\n",
       "      <td>6.7</td>\n",
       "      <td>225.0</td>\n",
       "      <td>1960</td>\n",
       "    </tr>\n",
       "    <tr>\n",
       "      <th>26</th>\n",
       "      <td>tm94651</td>\n",
       "      <td>Dostana</td>\n",
       "      <td>MOVIE</td>\n",
       "      <td>Vijay and Ravi are best friends (hence the nam...</td>\n",
       "      <td>1980</td>\n",
       "      <td>161</td>\n",
       "      <td>tt0080653</td>\n",
       "      <td>2.1</td>\n",
       "      <td>25.0</td>\n",
       "      <td>1980</td>\n",
       "    </tr>\n",
       "    <tr>\n",
       "      <th>27</th>\n",
       "      <td>tm19608</td>\n",
       "      <td>The Blazing Sun</td>\n",
       "      <td>MOVIE</td>\n",
       "      <td>A rich landlord floods and destroys a village ...</td>\n",
       "      <td>1954</td>\n",
       "      <td>100</td>\n",
       "      <td>tt0044429</td>\n",
       "      <td>7.4</td>\n",
       "      <td>1219.0</td>\n",
       "      <td>1950</td>\n",
       "    </tr>\n",
       "    <tr>\n",
       "      <th>28</th>\n",
       "      <td>ts45948</td>\n",
       "      <td>Monty Python's Fliegender Zirkus</td>\n",
       "      <td>SHOW</td>\n",
       "      <td>Monty Python's Fliegender Zirkus consisted of ...</td>\n",
       "      <td>1972</td>\n",
       "      <td>43</td>\n",
       "      <td>tt0202477</td>\n",
       "      <td>8.1</td>\n",
       "      <td>2144.0</td>\n",
       "      <td>1970</td>\n",
       "    </tr>\n",
       "    <tr>\n",
       "      <th>29</th>\n",
       "      <td>tm90896</td>\n",
       "      <td>The Return of the Prodigal Son</td>\n",
       "      <td>MOVIE</td>\n",
       "      <td>In this Andre Gide adaptation, an activist is ...</td>\n",
       "      <td>1976</td>\n",
       "      <td>124</td>\n",
       "      <td>tt0074168</td>\n",
       "      <td>7.2</td>\n",
       "      <td>768.0</td>\n",
       "      <td>1970</td>\n",
       "    </tr>\n",
       "    <tr>\n",
       "      <th>30</th>\n",
       "      <td>tm75975</td>\n",
       "      <td>Prince</td>\n",
       "      <td>MOVIE</td>\n",
       "      <td>To better himself, a spoiled prince temporaril...</td>\n",
       "      <td>1969</td>\n",
       "      <td>152</td>\n",
       "      <td>tt0064842</td>\n",
       "      <td>6.9</td>\n",
       "      <td>168.0</td>\n",
       "      <td>1960</td>\n",
       "    </tr>\n",
       "    <tr>\n",
       "      <th>31</th>\n",
       "      <td>tm107372</td>\n",
       "      <td>Manoranjan</td>\n",
       "      <td>MOVIE</td>\n",
       "      <td>Havaldar Ratan is a rookie at the local police...</td>\n",
       "      <td>1974</td>\n",
       "      <td>162</td>\n",
       "      <td>tt0071811</td>\n",
       "      <td>6.5</td>\n",
       "      <td>236.0</td>\n",
       "      <td>1970</td>\n",
       "    </tr>\n",
       "    <tr>\n",
       "      <th>32</th>\n",
       "      <td>tm200475</td>\n",
       "      <td>Beirut, Oh Beirut</td>\n",
       "      <td>MOVIE</td>\n",
       "      <td>In the aftermath of the 1967 defeat, four youn...</td>\n",
       "      <td>1975</td>\n",
       "      <td>110</td>\n",
       "      <td>tt0169599</td>\n",
       "      <td>6.5</td>\n",
       "      <td>106.0</td>\n",
       "      <td>1970</td>\n",
       "    </tr>\n",
       "    <tr>\n",
       "      <th>33</th>\n",
       "      <td>tm259855</td>\n",
       "      <td>We Are All for the Fatherland</td>\n",
       "      <td>MOVIE</td>\n",
       "      <td>After the 1978 Israeli invasion of Lebanon, ch...</td>\n",
       "      <td>1979</td>\n",
       "      <td>74</td>\n",
       "      <td>tt0170799</td>\n",
       "      <td>6.2</td>\n",
       "      <td>43.0</td>\n",
       "      <td>1970</td>\n",
       "    </tr>\n",
       "    <tr>\n",
       "      <th>34</th>\n",
       "      <td>tm259684</td>\n",
       "      <td>Whispers</td>\n",
       "      <td>MOVIE</td>\n",
       "      <td>At every station, between sites filled with po...</td>\n",
       "      <td>1980</td>\n",
       "      <td>93</td>\n",
       "      <td>tt0170803</td>\n",
       "      <td>7.8</td>\n",
       "      <td>75.0</td>\n",
       "      <td>1980</td>\n",
       "    </tr>\n",
       "    <tr>\n",
       "      <th>35</th>\n",
       "      <td>tm344089</td>\n",
       "      <td>Lal Patthar</td>\n",
       "      <td>MOVIE</td>\n",
       "      <td>Raja Kumar Bahadur alias Gyan Shankar Rai has ...</td>\n",
       "      <td>1971</td>\n",
       "      <td>153</td>\n",
       "      <td>tt0237395</td>\n",
       "      <td>6.2</td>\n",
       "      <td>137.0</td>\n",
       "      <td>1970</td>\n",
       "    </tr>\n",
       "    <tr>\n",
       "      <th>36</th>\n",
       "      <td>tm358653</td>\n",
       "      <td>Ujala</td>\n",
       "      <td>MOVIE</td>\n",
       "      <td>An honest man dreams of a better life for his ...</td>\n",
       "      <td>1959</td>\n",
       "      <td>142</td>\n",
       "      <td>tt0157132</td>\n",
       "      <td>6.7</td>\n",
       "      <td>78.0</td>\n",
       "      <td>1950</td>\n",
       "    </tr>\n",
       "    <tr>\n",
       "      <th>37</th>\n",
       "      <td>tm100027</td>\n",
       "      <td>Alibaba Aur 40 Chor</td>\n",
       "      <td>MOVIE</td>\n",
       "      <td>The movie is based on the story of Ali Baba an...</td>\n",
       "      <td>1979</td>\n",
       "      <td>138</td>\n",
       "      <td>tt0079749</td>\n",
       "      <td>6.2</td>\n",
       "      <td>555.0</td>\n",
       "      <td>1970</td>\n",
       "    </tr>\n",
       "    <tr>\n",
       "      <th>38</th>\n",
       "      <td>tm10204</td>\n",
       "      <td>Professor</td>\n",
       "      <td>MOVIE</td>\n",
       "      <td>Sita devi is a very strict aunt for a number o...</td>\n",
       "      <td>1962</td>\n",
       "      <td>163</td>\n",
       "      <td>tt0056379</td>\n",
       "      <td>6.8</td>\n",
       "      <td>285.0</td>\n",
       "      <td>1960</td>\n",
       "    </tr>\n",
       "    <tr>\n",
       "      <th>39</th>\n",
       "      <td>tm403346</td>\n",
       "      <td>Chadi Jawani Budhe Nu</td>\n",
       "      <td>MOVIE</td>\n",
       "      <td>A small-time businessman (B.S. Sood) reaches t...</td>\n",
       "      <td>1976</td>\n",
       "      <td>135</td>\n",
       "      <td>tt3290368</td>\n",
       "      <td>4.6</td>\n",
       "      <td>14.0</td>\n",
       "      <td>1970</td>\n",
       "    </tr>\n",
       "  </tbody>\n",
       "</table>\n",
       "</div>"
      ],
      "text/plain": [
       "             id                                      title   type  \\\n",
       "index                                                               \n",
       "0       tm84618                                Taxi Driver  MOVIE   \n",
       "1      tm127384            Monty Python and the Holy Grail  MOVIE   \n",
       "2       tm70993                              Life of Brian  MOVIE   \n",
       "3      tm190788                               The Exorcist  MOVIE   \n",
       "4       ts22164               Monty Python's Flying Circus   SHOW   \n",
       "5       tm14873                                Dirty Harry  MOVIE   \n",
       "6      tm185072                               My Fair Lady  MOVIE   \n",
       "7       tm98978                            The Blue Lagoon  MOVIE   \n",
       "8      tm119281                           Bonnie and Clyde  MOVIE   \n",
       "9       tm67378                          The Professionals  MOVIE   \n",
       "10      tm44204                       The Guns of Navarone  MOVIE   \n",
       "11      tm69778  Lupin the Third: The Castle of Cagliostro  MOVIE   \n",
       "12      tm69997             Richard Pryor: Live in Concert  MOVIE   \n",
       "13      tm96649                            The Long Riders  MOVIE   \n",
       "14      tm16479                            White Christmas  MOVIE   \n",
       "15     tm135083                              Cairo Station  MOVIE   \n",
       "16      tm14491                                  The Queen  MOVIE   \n",
       "17      tm89386                           Hitler: A Career  MOVIE   \n",
       "18     tm156453                                        FTA  MOVIE   \n",
       "19      tm27298                     Saladin the Victorious  MOVIE   \n",
       "20     tm356209                                  Singapore  MOVIE   \n",
       "21     tm204541                                Dark Waters  MOVIE   \n",
       "22      tm14350                         Alexandriaâ€¦ Why?  MOVIE   \n",
       "23     tm102287                            Raya and Sakina  MOVIE   \n",
       "24      tm76557                             No Longer Kids  MOVIE   \n",
       "25      tm71909                                   Amrapali  MOVIE   \n",
       "26      tm94651                                    Dostana  MOVIE   \n",
       "27      tm19608                            The Blazing Sun  MOVIE   \n",
       "28      ts45948           Monty Python's Fliegender Zirkus   SHOW   \n",
       "29      tm90896             The Return of the Prodigal Son  MOVIE   \n",
       "30      tm75975                                     Prince  MOVIE   \n",
       "31     tm107372                                 Manoranjan  MOVIE   \n",
       "32     tm200475                          Beirut, Oh Beirut  MOVIE   \n",
       "33     tm259855              We Are All for the Fatherland  MOVIE   \n",
       "34     tm259684                                   Whispers  MOVIE   \n",
       "35     tm344089                                Lal Patthar  MOVIE   \n",
       "36     tm358653                                      Ujala  MOVIE   \n",
       "37     tm100027                        Alibaba Aur 40 Chor  MOVIE   \n",
       "38      tm10204                                  Professor  MOVIE   \n",
       "39     tm403346                      Chadi Jawani Budhe Nu  MOVIE   \n",
       "\n",
       "                                             description  release_year  \\\n",
       "index                                                                    \n",
       "0      A mentally unstable Vietnam War veteran works ...          1976   \n",
       "1      King Arthur, accompanied by his squire, recrui...          1975   \n",
       "2      Brian Cohen is an average young Jewish man, bu...          1979   \n",
       "3      12-year-old Regan MacNeil begins to adapt an e...          1973   \n",
       "4      A British sketch comedy series with the shows ...          1969   \n",
       "5      When a madman dubbed 'Scorpio' terrorizes San ...          1971   \n",
       "6      A snobbish phonetics professor agrees to a wag...          1964   \n",
       "7      Two small children and a ship's cook survive a...          1980   \n",
       "8      In the 1930s, bored waitress Bonnie Parker fal...          1967   \n",
       "9      An arrogant Texas millionaire hires four adven...          1966   \n",
       "10     A team of allied saboteurs are assigned an imp...          1961   \n",
       "11     After a successful robbery leaves famed thief ...          1979   \n",
       "12     Richard Pryor delivers monologues on race, sex...          1979   \n",
       "13     The origins, exploits and the ultimate fate of...          1980   \n",
       "14     Two talented song-and-dance men team up after ...          1954   \n",
       "15     Qinawi, a physically challenged peddler who ma...          1958   \n",
       "16     In 1967, New York City is host to the Miss All...          1968   \n",
       "17     A keen chronicle of the unlikely rise to power...          1977   \n",
       "18     A documentary about a political troupe headed ...          1972   \n",
       "19     Saladin, the first sultan of Egypt and Syria, ...          1963   \n",
       "20     When his employee disappears in Singapore, Shy...          1960   \n",
       "21     Ragab, a poor sailor, returns home to Alexandr...          1956   \n",
       "22     Set against the panoramic backdrop of war-torn...          1979   \n",
       "23     Dramatic rendition of a real life crime wave t...          1953   \n",
       "24     By coincidence, Ahmad discovers that his fathe...          1979   \n",
       "25     After a failed conquest, Emperor Ajaatshatru p...          1966   \n",
       "26     Vijay and Ravi are best friends (hence the nam...          1980   \n",
       "27     A rich landlord floods and destroys a village ...          1954   \n",
       "28     Monty Python's Fliegender Zirkus consisted of ...          1972   \n",
       "29     In this Andre Gide adaptation, an activist is ...          1976   \n",
       "30     To better himself, a spoiled prince temporaril...          1969   \n",
       "31     Havaldar Ratan is a rookie at the local police...          1974   \n",
       "32     In the aftermath of the 1967 defeat, four youn...          1975   \n",
       "33     After the 1978 Israeli invasion of Lebanon, ch...          1979   \n",
       "34     At every station, between sites filled with po...          1980   \n",
       "35     Raja Kumar Bahadur alias Gyan Shankar Rai has ...          1971   \n",
       "36     An honest man dreams of a better life for his ...          1959   \n",
       "37     The movie is based on the story of Ali Baba an...          1979   \n",
       "38     Sita devi is a very strict aunt for a number o...          1962   \n",
       "39     A small-time businessman (B.S. Sood) reaches t...          1976   \n",
       "\n",
       "       runtime    imdb_id  imdb_score  imdb_votes  decade  \n",
       "index                                                      \n",
       "0          113  tt0075314         8.3    795222.0    1970  \n",
       "1           91  tt0071853         8.2    530877.0    1970  \n",
       "2           94  tt0079470         8.0    392419.0    1970  \n",
       "3          133  tt0070047         8.1    391942.0    1970  \n",
       "4           30  tt0063929         8.8     72895.0    1960  \n",
       "5          102  tt0066999         7.7    153463.0    1970  \n",
       "6          170  tt0058385         7.8     94121.0    1960  \n",
       "7          104  tt0080453         5.8     69053.0    1980  \n",
       "8          110  tt0061418         7.7    111189.0    1960  \n",
       "9          117  tt0060862         7.3     16168.0    1960  \n",
       "10         158  tt0054953         7.5     50150.0    1960  \n",
       "11         100  tt0079833         7.6     30277.0    1970  \n",
       "12          78  tt0079807         8.1      5141.0    1970  \n",
       "13          99  tt0081071         6.9     11329.0    1980  \n",
       "14         115  tt0047673         7.5     42373.0    1950  \n",
       "15          77  tt0051390         7.5      4385.0    1950  \n",
       "16          68  tt0183686         7.2      1117.0    1960  \n",
       "17         150  tt0191182         7.5      2416.0    1970  \n",
       "18          97  tt0068562         6.2       411.0    1970  \n",
       "19         186  tt0057357         7.6      2470.0    1960  \n",
       "20         158  tt0268639         6.4        82.0    1960  \n",
       "21         120  tt0049761         6.7       590.0    1950  \n",
       "22         133  tt0077751         7.2      1689.0    1970  \n",
       "23         105  tt0316472         6.8       231.0    1950  \n",
       "24         235  tt8312792         9.0       943.0    1970  \n",
       "25         120  tt0060104         6.7       225.0    1960  \n",
       "26         161  tt0080653         2.1        25.0    1980  \n",
       "27         100  tt0044429         7.4      1219.0    1950  \n",
       "28          43  tt0202477         8.1      2144.0    1970  \n",
       "29         124  tt0074168         7.2       768.0    1970  \n",
       "30         152  tt0064842         6.9       168.0    1960  \n",
       "31         162  tt0071811         6.5       236.0    1970  \n",
       "32         110  tt0169599         6.5       106.0    1970  \n",
       "33          74  tt0170799         6.2        43.0    1970  \n",
       "34          93  tt0170803         7.8        75.0    1980  \n",
       "35         153  tt0237395         6.2       137.0    1970  \n",
       "36         142  tt0157132         6.7        78.0    1950  \n",
       "37         138  tt0079749         6.2       555.0    1970  \n",
       "38         163  tt0056379         6.8       285.0    1960  \n",
       "39         135  tt3290368         4.6        14.0    1970  "
      ]
     },
     "execution_count": 15,
     "metadata": {},
     "output_type": "execute_result"
    }
   ],
   "source": [
    "df_fix.head(40)"
   ]
  },
  {
   "cell_type": "markdown",
   "metadata": {},
   "source": [
    "### Calculate the average IMDB score for movies and TV shows separately."
   ]
  },
  {
   "cell_type": "code",
   "execution_count": 16,
   "metadata": {},
   "outputs": [
    {
     "name": "stdout",
     "output_type": "stream",
     "text": [
      "Average IMDB score for movies:  6.2677931237143705\n",
      "Average IMDB score for shows:  7.017813333333333\n"
     ]
    }
   ],
   "source": [
    "movieMean = df_fix[df_fix[\"type\"] == \"MOVIE\"][\"imdb_score\"].mean() \n",
    "#creating new DF that only contains rows where the type is \"MOVIE\"and selecting \"imdb_score\" column to obtain a Panda Series with \"MOVIE\" scores exclusively\n",
    "showMean  = df_fix[df_fix[\"type\"] == \"SHOW\"][\"imdb_score\"].mean()\n",
    "#creating new DF that only contains rows where the type is \"SHOW\"and selecting \"imdb_score\" column to obtain a Panda Series with \"SHOW\" scores exclusively\n",
    "\n",
    "print(\"Average IMDB score for movies: \",movieMean)\n",
    "print(\"Average IMDB score for shows: \",showMean)"
   ]
  },
  {
   "cell_type": "markdown",
   "metadata": {},
   "source": [
    "### Find the top 10 highest-rated titles (based on IMDB score) for both movies and TV shows."
   ]
  },
  {
   "cell_type": "code",
   "execution_count": 17,
   "metadata": {},
   "outputs": [
    {
     "name": "stdout",
     "output_type": "stream",
     "text": [
      "Top 10 Highest-Rated Movies:\n",
      "                                          title  imdb_score\n",
      "index                                                      \n",
      "24                               No Longer Kids         9.0\n",
      "2685                          C/o Kancharapalem         9.0\n",
      "3172   David Attenborough: A Life on Our Planet         9.0\n",
      "822        Chhota Bheem & Krishna in Mayanagari         9.0\n",
      "101                                Forrest Gump         8.8\n",
      "4143                        Sky Tour: The Movie         8.8\n",
      "246                                   Inception         8.8\n",
      "3959                              Rubaru Roshni         8.7\n",
      "495                         A Lion in the House         8.7\n",
      "566                                  Anbe Sivam         8.7\n",
      "\n",
      "Top 10 Highest-Rated Shows:\n",
      "                            title  imdb_score\n",
      "index                                        \n",
      "2787                     #ABtalks         9.6\n",
      "622                      Khawatir         9.6\n",
      "229                  Breaking Bad         9.5\n",
      "3144                   Our Planet         9.3\n",
      "245    Avatar: The Last Airbender         9.3\n",
      "3597                 Kota Factory         9.3\n",
      "1346                   Reply 1988         9.2\n",
      "1953                    My Mister         9.2\n",
      "4628          Who Rules The World         9.2\n",
      "4429                       Arcane         9.1\n"
     ]
    }
   ],
   "source": [
    "top10Mov = df_fix[df_fix[\"type\"] == \"MOVIE\"].sort_values(by=\"imdb_score\", ascending=False).head(10)\n",
    "#Filtering DF to only include \"MOVIE\" type rows, and sorting filtered DF in descending order based on \"imdb_score\" \n",
    "top10Show = df_fix[df_fix[\"type\"] == \"SHOW\"].sort_values(by=\"imdb_score\", ascending=False).head(10)\n",
    "##Filtering DF to only include \"SHOW\" type rows, and sorting filtered DF in descending order based on \"imdb_score\" \n",
    "\n",
    "#printing out only the \"title\" and \"imdb_score\" columns for clarity, better then print(\"Top10\", top10Mov)\n",
    "print(\"Top 10 Highest-Rated Movies:\")\n",
    "print(top10Mov[[\"title\", \"imdb_score\"]])\n",
    "#printing out only the \"title\" and \"imdb_score\" columns for clarity, better then print(\"Top10\", top10Show)\n",
    "print(\"\\nTop 10 Highest-Rated Shows:\")\n",
    "print(top10Show[[\"title\", \"imdb_score\"]])"
   ]
  },
  {
   "cell_type": "markdown",
   "metadata": {},
   "source": [
    "### Calculate the average runtime for movies and TV shows."
   ]
  },
  {
   "cell_type": "code",
   "execution_count": 18,
   "metadata": {},
   "outputs": [
    {
     "name": "stdout",
     "output_type": "stream",
     "text": [
      "Average runtime for Movies:  101.56979136056421\n",
      "Average runtime for Shows:  38.6288\n"
     ]
    }
   ],
   "source": [
    "movies_avgRun = df_fix[df_fix[\"type\"] == \"MOVIE\"][\"runtime\"].mean()\n",
    "shows_avgRun =  df_fix[df_fix[\"type\"] == \"SHOW\"] [\"runtime\"].mean()\n",
    "\n",
    "print(\"Average runtime for Movies: \", movies_avgRun)\n",
    "print(\"Average runtime for Shows: \", shows_avgRun)"
   ]
  },
  {
   "cell_type": "markdown",
   "metadata": {},
   "source": [
    "### Determine the distribution of content across different age certifications."
   ]
  },
  {
   "cell_type": "code",
   "execution_count": 19,
   "metadata": {},
   "outputs": [
    {
     "name": "stdout",
     "output_type": "stream",
     "text": [
      "age_certification\n",
      "NaN      2285\n",
      "TV-MA     792\n",
      "R         548\n",
      "TV-14     436\n",
      "PG-13     424\n",
      "PG        238\n",
      "TV-PG     172\n",
      "G         105\n",
      "TV-Y7     104\n",
      "TV-Y       94\n",
      "TV-G       72\n",
      "NC-17      13\n",
      "Name: count, dtype: int64\n"
     ]
    }
   ],
   "source": [
    "ageDist = df[\"age_certification\"].value_counts(dropna=False) \n",
    "## We are using the original df, and not df_fix, because we previously opted to drop the age_certification column since there are 2000+ NaN rows\n",
    "print(ageDist)"
   ]
  },
  {
   "cell_type": "markdown",
   "metadata": {},
   "source": [
    "# Data Manipulation\n",
    "### Group the data by 'type' and 'age_certification', then calculate the average IMDB score for each group."
   ]
  },
  {
   "cell_type": "code",
   "execution_count": 20,
   "metadata": {},
   "outputs": [
    {
     "name": "stdout",
     "output_type": "stream",
     "text": [
      "type   age_certification\n",
      "MOVIE  G                    6.393333\n",
      "       NC-17                6.400000\n",
      "       PG                   6.208403\n",
      "       PG-13                6.444575\n",
      "       R                    6.321168\n",
      "SHOW   TV-14                7.262615\n",
      "       TV-G                 6.348611\n",
      "       TV-MA                7.065909\n",
      "       TV-PG                6.916860\n",
      "       TV-Y                 6.547872\n",
      "       TV-Y7                6.913462\n",
      "Name: imdb_score, dtype: float64\n"
     ]
    }
   ],
   "source": [
    "dataGroup = df.groupby([\"type\", \"age_certification\"])[\"imdb_score\"].mean()\n",
    "print(dataGroup)"
   ]
  },
  {
   "cell_type": "markdown",
   "metadata": {},
   "source": [
    "### Create a new DataFrame containing only the titles released in the last 5 years."
   ]
  },
  {
   "cell_type": "code",
   "execution_count": 21,
   "metadata": {},
   "outputs": [
    {
     "name": "stdout",
     "output_type": "stream",
     "text": [
      "              id                               title   type  \\\n",
      "index                                                         \n",
      "3010    ts216679                          Bridgerton   SHOW   \n",
      "3017    tm681578                          The Rental  MOVIE   \n",
      "3019     ts87453                         Space Force   SHOW   \n",
      "3021    tm832345                            365 Days  MOVIE   \n",
      "3022     ts89259                  The Queen's Gambit   SHOW   \n",
      "...          ...                                 ...    ...   \n",
      "5278   tm1040816         Momshies! Your Soul is Mine  MOVIE   \n",
      "5279   tm1014599                           Fine Wine  MOVIE   \n",
      "5280   tm1045018                               Clash  MOVIE   \n",
      "5281   tm1098060                      Shadow Parties  MOVIE   \n",
      "5282    ts271048  Mighty Little Bheem: Kite Festival   SHOW   \n",
      "\n",
      "                                             description  release_year  \\\n",
      "index                                                                    \n",
      "3010   Wealth, lust, and betrayal set in the backdrop...          2020   \n",
      "3017   Two couples rent a vacation home for what shou...          2020   \n",
      "3019   A four-star general begrudgingly teams up with...          2020   \n",
      "3021   Massimo is a member of the Sicilian Mafia fami...          2020   \n",
      "3022   In a Kentucky orphanage in the 1950s, a young ...          2020   \n",
      "...                                                  ...           ...   \n",
      "5278   Three women with totally different lives accid...          2021   \n",
      "5279   A beautiful love story that can happen between...          2021   \n",
      "5280   A man from Nigeria returns to his family in Ca...          2021   \n",
      "5281   A family faces destruction in a long-running c...          2021   \n",
      "5282   With winter behind them, Bheem and his townspe...          2021   \n",
      "\n",
      "       runtime     imdb_id  imdb_score  imdb_votes  decade  \n",
      "index                                                       \n",
      "3010        62   tt8740790         7.3    122036.0    2020  \n",
      "3017        88  tt10003008         5.7     29201.0    2020  \n",
      "3019        30   tt9612516         6.7     61739.0    2020  \n",
      "3021       114  tt10886166         3.3     80198.0    2020  \n",
      "3022        56  tt10048342         8.6    406350.0    2020  \n",
      "...        ...         ...         ...         ...     ...  \n",
      "5278       108  tt14412240         5.8        26.0    2020  \n",
      "5279       100  tt13857480         6.9        39.0    2020  \n",
      "5280        88  tt14620732         6.5        32.0    2020  \n",
      "5281       116  tt10168094         6.2         9.0    2020  \n",
      "5282         0  tt13711094         8.8        16.0    2020  \n",
      "\n",
      "[1524 rows x 10 columns]\n"
     ]
    }
   ],
   "source": [
    "import datetime\n",
    "# A date in Python is not a data type of its own, but we can import a module named datetime to work with dates as date objects.\n",
    "\n",
    "yearNow = datetime.datetime.now().year\n",
    "# Establishes the current year and stores it's value as an integer\n",
    "last5_df = df_fix[df_fix['release_year'] >= yearNow - 5]\n",
    "# Creates a new DF that only shows releases in the last 5 years\n",
    "\n",
    "print(last5_df)"
   ]
  },
  {
   "cell_type": "markdown",
   "metadata": {},
   "source": [
    "# Data filtering and sorting"
   ]
  },
  {
   "cell_type": "markdown",
   "metadata": {},
   "source": [
    "### Filter the DataFrame to show only titles with an IMDB score above 8.0 and more than 10 000 votes."
   ]
  },
  {
   "cell_type": "code",
   "execution_count": 22,
   "metadata": {},
   "outputs": [
    {
     "name": "stdout",
     "output_type": "stream",
     "text": [
      "              id                            title   type  \\\n",
      "index                                                      \n",
      "0        tm84618                      Taxi Driver  MOVIE   \n",
      "1       tm127384  Monty Python and the Holy Grail  MOVIE   \n",
      "3       tm190788                     The Exorcist  MOVIE   \n",
      "4        ts22164     Monty Python's Flying Circus   SHOW   \n",
      "43       ts20681                         Seinfeld   SHOW   \n",
      "...          ...                              ...    ...   \n",
      "4522   tm1038686               Bo Burnham: Inside  MOVIE   \n",
      "4523    ts287976                     Young Royals   SHOW   \n",
      "4580    ts271867                         Vincenzo   SHOW   \n",
      "4647   tm1018890                       Seaspiracy  MOVIE   \n",
      "4733   tm1086874                    Minnal Murali  MOVIE   \n",
      "\n",
      "                                             description  release_year  \\\n",
      "index                                                                    \n",
      "0      A mentally unstable Vietnam War veteran works ...          1976   \n",
      "1      King Arthur, accompanied by his squire, recrui...          1975   \n",
      "3      12-year-old Regan MacNeil begins to adapt an e...          1973   \n",
      "4      A British sketch comedy series with the shows ...          1969   \n",
      "43     A stand-up comedian and his three offbeat frie...          1989   \n",
      "...                                                  ...           ...   \n",
      "4522   Stuck in COVID-19 lockdown, US comedian and mu...          2021   \n",
      "4523   Prince Wilhelm adjusts to life at his prestigi...          2021   \n",
      "4580   Vincenzo Cassano is an Italian lawyer and Mafi...          2021   \n",
      "4647   Passionate about ocean life, a filmmaker sets ...          2021   \n",
      "4733   A tailor gains special powers after being stru...          2021   \n",
      "\n",
      "       runtime     imdb_id  imdb_score  imdb_votes  decade  \n",
      "index                                                       \n",
      "0          113   tt0075314         8.3    795222.0    1970  \n",
      "1           91   tt0071853         8.2    530877.0    1970  \n",
      "3          133   tt0070047         8.1    391942.0    1970  \n",
      "4           30   tt0063929         8.8     72895.0    1960  \n",
      "43          24   tt0098904         8.9    302700.0    1980  \n",
      "...        ...         ...         ...         ...     ...  \n",
      "4522        87  tt14545352         8.7     44074.0    2020  \n",
      "4523        45  tt14664414         8.3     26732.0    2020  \n",
      "4580        81  tt13433812         8.4     15134.0    2020  \n",
      "4647        80  tt14152756         8.1     29604.0    2020  \n",
      "4733       158   tt7268738         8.1     24681.0    2020  \n",
      "\n",
      "[180 rows x 10 columns]\n"
     ]
    }
   ],
   "source": [
    "filt_df = df_fix[(df_fix['imdb_score'] > 8.0) & (df_fix['imdb_votes'] > 10000)]\n",
    "#Creation of 2 boolean series (mascaras booleanas), Nº1 is TRUE for \"IMDB_score\" above 8.0 AND (&) Nº2 is TRUE for \"IMDB_votes\" above 10k Votes\n",
    "print(filt_df)"
   ]
  },
  {
   "cell_type": "markdown",
   "metadata": {},
   "source": [
    "### Sort this filtered DataFrame by IMDB score in descending order."
   ]
  },
  {
   "cell_type": "code",
   "execution_count": 23,
   "metadata": {},
   "outputs": [
    {
     "name": "stdout",
     "output_type": "stream",
     "text": [
      "Top 10 Titles with at least 8.0 IMDB score and 10 000 votes:\n",
      "                                 title  imdb_score  imdb_votes\n",
      "index                                                         \n",
      "229                       Breaking Bad         9.5   1727694.0\n",
      "245         Avatar: The Last Airbender         9.3    297336.0\n",
      "3597                      Kota Factory         9.3     66985.0\n",
      "3144                        Our Planet         9.3     41386.0\n",
      "3026                    The Last Dance         9.1    108321.0\n",
      "...                                ...         ...         ...\n",
      "3250                             Klaus         8.1    141480.0\n",
      "3280            Bill Burr: Paper Tiger         8.1     10649.0\n",
      "3359   The Trials of Gabriel Fernandez         8.1     10982.0\n",
      "4647                        Seaspiracy         8.1     29604.0\n",
      "4733                     Minnal Murali         8.1     24681.0\n",
      "\n",
      "[180 rows x 3 columns]\n"
     ]
    }
   ],
   "source": [
    "scoreSort_df = filt_df.sort_values(by='imdb_score', ascending=False)\n",
    "\n",
    "print(\"Top 10 Titles with at least 8.0 IMDB score and 10 000 votes:\")\n",
    "#Printing only the 3 relevant columns for clarity\n",
    "print(scoreSort_df[[\"title\", \"imdb_score\", \"imdb_votes\"]])\n",
    "\n"
   ]
  },
  {
   "cell_type": "markdown",
   "metadata": {},
   "source": [
    "# Indexing and selection\n",
    "### Set the 'title' column as the index of the DataFrame."
   ]
  },
  {
   "cell_type": "code",
   "execution_count": 24,
   "metadata": {},
   "outputs": [],
   "source": [
    "df_fix.set_index(\"title\", inplace=True)\n",
    "#inplace=true modifies the DF directly, as opposed to using -> df_fix = df_fix.set_index('title')\n"
   ]
  },
  {
   "cell_type": "code",
   "execution_count": 25,
   "metadata": {},
   "outputs": [
    {
     "data": {
      "text/html": [
       "<div>\n",
       "<style scoped>\n",
       "    .dataframe tbody tr th:only-of-type {\n",
       "        vertical-align: middle;\n",
       "    }\n",
       "\n",
       "    .dataframe tbody tr th {\n",
       "        vertical-align: top;\n",
       "    }\n",
       "\n",
       "    .dataframe thead th {\n",
       "        text-align: right;\n",
       "    }\n",
       "</style>\n",
       "<table border=\"1\" class=\"dataframe\">\n",
       "  <thead>\n",
       "    <tr style=\"text-align: right;\">\n",
       "      <th></th>\n",
       "      <th>id</th>\n",
       "      <th>type</th>\n",
       "      <th>description</th>\n",
       "      <th>release_year</th>\n",
       "      <th>runtime</th>\n",
       "      <th>imdb_id</th>\n",
       "      <th>imdb_score</th>\n",
       "      <th>imdb_votes</th>\n",
       "      <th>decade</th>\n",
       "    </tr>\n",
       "    <tr>\n",
       "      <th>title</th>\n",
       "      <th></th>\n",
       "      <th></th>\n",
       "      <th></th>\n",
       "      <th></th>\n",
       "      <th></th>\n",
       "      <th></th>\n",
       "      <th></th>\n",
       "      <th></th>\n",
       "      <th></th>\n",
       "    </tr>\n",
       "  </thead>\n",
       "  <tbody>\n",
       "    <tr>\n",
       "      <th>Taxi Driver</th>\n",
       "      <td>tm84618</td>\n",
       "      <td>MOVIE</td>\n",
       "      <td>A mentally unstable Vietnam War veteran works ...</td>\n",
       "      <td>1976</td>\n",
       "      <td>113</td>\n",
       "      <td>tt0075314</td>\n",
       "      <td>8.3</td>\n",
       "      <td>795222.0</td>\n",
       "      <td>1970</td>\n",
       "    </tr>\n",
       "    <tr>\n",
       "      <th>Monty Python and the Holy Grail</th>\n",
       "      <td>tm127384</td>\n",
       "      <td>MOVIE</td>\n",
       "      <td>King Arthur, accompanied by his squire, recrui...</td>\n",
       "      <td>1975</td>\n",
       "      <td>91</td>\n",
       "      <td>tt0071853</td>\n",
       "      <td>8.2</td>\n",
       "      <td>530877.0</td>\n",
       "      <td>1970</td>\n",
       "    </tr>\n",
       "    <tr>\n",
       "      <th>Life of Brian</th>\n",
       "      <td>tm70993</td>\n",
       "      <td>MOVIE</td>\n",
       "      <td>Brian Cohen is an average young Jewish man, bu...</td>\n",
       "      <td>1979</td>\n",
       "      <td>94</td>\n",
       "      <td>tt0079470</td>\n",
       "      <td>8.0</td>\n",
       "      <td>392419.0</td>\n",
       "      <td>1970</td>\n",
       "    </tr>\n",
       "    <tr>\n",
       "      <th>The Exorcist</th>\n",
       "      <td>tm190788</td>\n",
       "      <td>MOVIE</td>\n",
       "      <td>12-year-old Regan MacNeil begins to adapt an e...</td>\n",
       "      <td>1973</td>\n",
       "      <td>133</td>\n",
       "      <td>tt0070047</td>\n",
       "      <td>8.1</td>\n",
       "      <td>391942.0</td>\n",
       "      <td>1970</td>\n",
       "    </tr>\n",
       "    <tr>\n",
       "      <th>Monty Python's Flying Circus</th>\n",
       "      <td>ts22164</td>\n",
       "      <td>SHOW</td>\n",
       "      <td>A British sketch comedy series with the shows ...</td>\n",
       "      <td>1969</td>\n",
       "      <td>30</td>\n",
       "      <td>tt0063929</td>\n",
       "      <td>8.8</td>\n",
       "      <td>72895.0</td>\n",
       "      <td>1960</td>\n",
       "    </tr>\n",
       "  </tbody>\n",
       "</table>\n",
       "</div>"
      ],
      "text/plain": [
       "                                       id   type  \\\n",
       "title                                              \n",
       "Taxi Driver                       tm84618  MOVIE   \n",
       "Monty Python and the Holy Grail  tm127384  MOVIE   \n",
       "Life of Brian                     tm70993  MOVIE   \n",
       "The Exorcist                     tm190788  MOVIE   \n",
       "Monty Python's Flying Circus      ts22164   SHOW   \n",
       "\n",
       "                                                                       description  \\\n",
       "title                                                                                \n",
       "Taxi Driver                      A mentally unstable Vietnam War veteran works ...   \n",
       "Monty Python and the Holy Grail  King Arthur, accompanied by his squire, recrui...   \n",
       "Life of Brian                    Brian Cohen is an average young Jewish man, bu...   \n",
       "The Exorcist                     12-year-old Regan MacNeil begins to adapt an e...   \n",
       "Monty Python's Flying Circus     A British sketch comedy series with the shows ...   \n",
       "\n",
       "                                 release_year  runtime    imdb_id  imdb_score  \\\n",
       "title                                                                           \n",
       "Taxi Driver                              1976      113  tt0075314         8.3   \n",
       "Monty Python and the Holy Grail          1975       91  tt0071853         8.2   \n",
       "Life of Brian                            1979       94  tt0079470         8.0   \n",
       "The Exorcist                             1973      133  tt0070047         8.1   \n",
       "Monty Python's Flying Circus             1969       30  tt0063929         8.8   \n",
       "\n",
       "                                 imdb_votes  decade  \n",
       "title                                                \n",
       "Taxi Driver                        795222.0    1970  \n",
       "Monty Python and the Holy Grail    530877.0    1970  \n",
       "Life of Brian                      392419.0    1970  \n",
       "The Exorcist                       391942.0    1970  \n",
       "Monty Python's Flying Circus        72895.0    1960  "
      ]
     },
     "execution_count": 25,
     "metadata": {},
     "output_type": "execute_result"
    }
   ],
   "source": [
    "df_fix.head()"
   ]
  },
  {
   "cell_type": "markdown",
   "metadata": {},
   "source": [
    "### Select all movies released after 2020 using boolean indexing."
   ]
  },
  {
   "cell_type": "code",
   "execution_count": 26,
   "metadata": {},
   "outputs": [
    {
     "name": "stdout",
     "output_type": "stream",
     "text": [
      "                             release_year\n",
      "title                                    \n",
      "The Adam Project                     2022\n",
      "Operation Mincemeat                  2022\n",
      "The Power of the Dog                 2021\n",
      "Choose or Die                        2022\n",
      "Metal Lords                          2022\n",
      "...                                   ...\n",
      "Time to Dance                        2021\n",
      "Momshies! Your Soul is Mine          2021\n",
      "Fine Wine                            2021\n",
      "Clash                                2021\n",
      "Shadow Parties                       2021\n",
      "\n",
      "[501 rows x 1 columns]\n"
     ]
    }
   ],
   "source": [
    "recentMovies = df_fix[(df_fix[\"release_year\"] > 2020) & (df_fix[\"type\"] == \"MOVIE\")]\n",
    "#Creation of 2 boolean series (Mascaras booleanas), Nº1 is TRUE for \"release_year\" post 2020 (&) Nº2 is TRUE for \"type\" == \"Movie\"\n",
    "\n",
    "print(recentMovies[[\"release_year\",]])"
   ]
  },
  {
   "cell_type": "markdown",
   "metadata": {},
   "source": [
    "### Use loc to select specific columns for TV shows with runtime greater than 30 minutes."
   ]
  },
  {
   "cell_type": "code",
   "execution_count": 27,
   "metadata": {},
   "outputs": [
    {
     "name": "stdout",
     "output_type": "stream",
     "text": [
      "                                  runtime\n",
      "title                                    \n",
      "Monty Python's Fliegender Zirkus       43\n",
      "Knight Rider                           51\n",
      "High Risk                              50\n",
      "Survivor                               48\n",
      "Stargate SG-1                          44\n",
      "...                                   ...\n",
      "The Five Juanas                        34\n",
      "Christmas Flow                         50\n",
      "Korean Cold Noodle Rhapsody            49\n",
      "Pitta Kathalu                          37\n",
      "The Big Day                            45\n",
      "\n",
      "[1128 rows x 1 columns]\n"
     ]
    }
   ],
   "source": [
    "tv30 = df_fix.loc[(df_fix[\"type\"] == \"SHOW\") & (df_fix[\"runtime\"] > 30),[\"runtime\"]]\n",
    "#Boolean series (mascaras booleanas) for rows = tv shows & tuntime 30+\n",
    "#loc -> list of columns required\n",
    "print(tv30)"
   ]
  },
  {
   "cell_type": "markdown",
   "metadata": {},
   "source": [
    "# Data Visualization (using matplotlib)\n",
    "### Create a bar plot showing the average IMDB score by age certification."
   ]
  },
  {
   "cell_type": "code",
   "execution_count": 28,
   "metadata": {},
   "outputs": [
    {
     "data": {
      "text/plain": [
       "Text(0.5, 1.0, 'Average IMDB Score by Age Certification')"
      ]
     },
     "execution_count": 28,
     "metadata": {},
     "output_type": "execute_result"
    },
    {
     "data": {
      "image/png": "[encoded data removed]",
      "text/plain": [
       "<Figure size 640x480 with 1 Axes>"
      ]
     },
     "metadata": {},
     "output_type": "display_data"
    }
   ],
   "source": [
    "avgCert = df.groupby(\"age_certification\")[\"imdb_score\"].mean()\n",
    "# Group by 'age_certification' and calculate the average IMDB score\n",
    "# Using df instead of df.fix due to dropped \"age_certification\" column\n",
    "\n",
    "avgCert.plot(kind=\"bar\", color=\"cyan\")\n",
    "# Bar plot generation\n",
    "\n",
    "plt.xlabel(\"Age Certification\")\n",
    "plt.ylabel(\"Average IMDB Score\")\n",
    "# x and y axis labels\n",
    "\n",
    "plt.title(\"Average IMDB Score by Age Certification\")\n",
    "# Title label"
   ]
  },
  {
   "cell_type": "markdown",
   "metadata": {},
   "source": [
    "### Generate a scatter plot of IMDB score vs. number of votes, with different colors for movies and TV shows."
   ]
  },
  {
   "cell_type": "code",
   "execution_count": 29,
   "metadata": {},
   "outputs": [
    {
     "data": {
      "text/plain": [
       "Text(0.5, 1.0, 'IMDB Score vs. Number of Votes')"
      ]
     },
     "execution_count": 29,
     "metadata": {},
     "output_type": "execute_result"
    },
    {
     "data": {
      "image/png": "[encoded data removed]",
      "text/plain": [
       "<Figure size 1200x700 with 1 Axes>"
      ]
     },
     "metadata": {},
     "output_type": "display_data"
    }
   ],
   "source": [
    "\n",
    "movies = df_fix[df_fix['type'] == 'MOVIE']\n",
    "shows = df_fix[df_fix['type'] == 'SHOW']\n",
    "# Filter DF by type\n",
    "\n",
    "plt.figure(figsize=(12, 7)) # Customize graph dimensions\n",
    "plt.scatter(movies['imdb_votes'], movies['imdb_score'], color='orange')\n",
    "plt.scatter(shows['imdb_votes'], shows['imdb_score'], color='blue')\n",
    "# Generate scatter plot, votes on X axis and imdb score on y axis. Movies = Orange & Shows = blue\n",
    "\n",
    "plt.xlabel('IMDB Votes')\n",
    "plt.ylabel('IMDB Score')\n",
    "# Label axis\n",
    "\n",
    "plt.title('IMDB Score vs. Number of Votes')\n",
    "#title generation\n",
    "\n"
   ]
  },
  {
   "cell_type": "markdown",
   "metadata": {},
   "source": [
    "### Plot a histogram of runtimes for movies."
   ]
  },
  {
   "cell_type": "code",
   "execution_count": 30,
   "metadata": {},
   "outputs": [
    {
     "data": {
      "text/plain": [
       "Text(0.5, 1.0, 'Distribution of Movie Runtimes')"
      ]
     },
     "execution_count": 30,
     "metadata": {},
     "output_type": "execute_result"
    },
    {
     "data": {
      "image/png": "[encoded data removed]",
      "text/plain": [
       "<Figure size 1200x700 with 1 Axes>"
      ]
     },
     "metadata": {},
     "output_type": "display_data"
    }
   ],
   "source": [
    "movies = df_fix[df_fix['type'] == 'MOVIE']\n",
    "# Filter DF for movies exclusively\n",
    "\n",
    "plt.figure(figsize=(12, 7)) # Customize graph dimensions\n",
    "plt.hist(movies['runtime'], bins=20, color='cyan', edgecolor='black' )\n",
    "#Histogram generation for the movies runtime column; bins = intervals where continous data is divided, in this case there are 20\n",
    "\n",
    "\n",
    "plt.xlabel('Runtime (minutes)')\n",
    "plt.ylabel('Number of Movies')\n",
    "plt.title('Distribution of Movie Runtimes')\n",
    "# Labels and title generation\n",
    "\n"
   ]
  },
  {
   "cell_type": "markdown",
   "metadata": {},
   "source": [
    "# Data Export\n",
    "### Export your final, cleaned, and analyzed DataFrame to both CSV and Excel formats."
   ]
  },
  {
   "cell_type": "code",
   "execution_count": 31,
   "metadata": {},
   "outputs": [],
   "source": [
    "\n",
    "df_fix.to_csv(\"Group6_DF.csv\")\n",
    "# Export final DF to CSV format\n",
    "\n",
    "df_fix.to_excel(\"Group6_DF.xlsx\")\n",
    "#Export final DF to Excel format"
   ]
  },
  {
   "cell_type": "markdown",
   "metadata": {},
   "source": [
    "# Bonus 1\n",
    "### Decade-by-decade comparison of how many movies and how many TV shows were launched."
   ]
  },
  {
   "cell_type": "code",
   "execution_count": 33,
   "metadata": {},
   "outputs": [
    {
     "name": "stdout",
     "output_type": "stream",
     "text": [
      "release_year\n",
      "2019    749\n",
      "2018    733\n",
      "2021    687\n",
      "2020    657\n",
      "2017    555\n",
      "       ... \n",
      "1961      1\n",
      "1968      1\n",
      "1977      1\n",
      "1963      1\n",
      "1960      1\n",
      "Name: count, Length: 66, dtype: int64\n",
      "<class 'pandas.core.series.Series'>\n"
     ]
    },
    {
     "data": {
      "image/png": "[encoded data removed]",
      "text/plain": [
       "<Figure size 1200x600 with 1 Axes>"
      ]
     },
     "metadata": {},
     "output_type": "display_data"
    }
   ],
   "source": [
    "df_evolucao = df[\"release_year\"].value_counts().sort_index() #index = release year / Value = count, sorted\n",
    "\n",
    "print(df[\"release_year\"].value_counts()) # Returns a series with the number of titles per year\n",
    "print(type(df[\"release_year\"].value_counts())) #Confirmation that the data type is a series\n",
    "\n",
    "# Inserting a line chart\n",
    "plt.figure(figsize=(12, 6)) #increased line chart size\n",
    "plt.plot(df_evolucao.index, df_evolucao.values)\n",
    "\n",
    "plt.title(\"Evolution of number of movies/shows throughout the years\", fontsize=14) #Increased Title Font Size\n",
    "plt.xlabel(\"Release Year\")\n",
    "plt.ylabel(\"Número de filmes/shows\")\n",
    "\n",
    "plt.show()"
   ]
  },
  {
   "cell_type": "code",
   "execution_count": 37,
   "metadata": {},
   "outputs": [
    {
     "data": {
      "image/png": "[encoded data removed]",
      "text/plain": [
       "<Figure size 640x480 with 1 Axes>"
      ]
     },
     "metadata": {},
     "output_type": "display_data"
    }
   ],
   "source": [
    "# Counts the movies/shows by launch decade\n",
    "tipos_decadas = df_fix.groupby(['decade', 'type']).size().unstack(fill_value=0) #.unstack(fill_value=0) Used to join the bars in pairs\n",
    "\n",
    "tipos_decadas.plot(kind='bar')\n",
    "\n",
    "plt.title('Number of movies and shows by launch year')\n",
    "plt.xlabel('decade')\n",
    "plt.ylabel('Nº of Movies/Shows')\n",
    "plt.legend(title='Tipo', labels=['Movies', 'Shows'])\n",
    "plt.show()"
   ]
  },
  {
   "cell_type": "markdown",
   "metadata": {},
   "source": [
    "# Bonus 2\n",
    "### Machine Learning"
   ]
  },
  {
   "cell_type": "code",
   "execution_count": 59,
   "metadata": {},
   "outputs": [
    {
     "name": "stdout",
     "output_type": "stream",
     "text": [
      "       imdb_score  high_rating\n",
      "index                         \n",
      "0             8.3            1\n",
      "1             8.2            1\n",
      "2             8.0            1\n",
      "3             8.1            1\n",
      "4             8.8            1\n",
      "5             7.7            1\n",
      "6             7.8            1\n",
      "7             5.8            0\n",
      "8             7.7            1\n",
      "9             7.3            0\n",
      "10            7.5            0\n",
      "11            7.6            1\n",
      "12            8.1            1\n",
      "13            6.9            0\n",
      "14            7.5            0\n"
     ]
    }
   ],
   "source": [
    "# Create variable 'high_rating'\n",
    "df['high_rating'] = (df['imdb_score'] > 7.5).astype(int) # without  .astype(int) it would return True ou False\n",
    "\n",
    "# Checked\n",
    "print(df[['imdb_score', 'high_rating']].head(15))"
   ]
  },
  {
   "cell_type": "code",
   "execution_count": 60,
   "metadata": {},
   "outputs": [],
   "source": [
    "from sklearn.model_selection import train_test_split\n",
    "\n",
    "X = df[['runtime', 'release_year']]\n",
    "y = df['high_rating']\n",
    "\n",
    "# Dividir os dados em teste e treino\n",
    "X_train, X_test, y_train, y_test = train_test_split(X, y, test_size=0.2, random_state=42)"
   ]
  },
  {
   "cell_type": "code",
   "execution_count": 61,
   "metadata": {},
   "outputs": [],
   "source": [
    "from sklearn.preprocessing import StandardScaler"
   ]
  },
  {
   "cell_type": "code",
   "execution_count": 62,
   "metadata": {},
   "outputs": [],
   "source": [
    "# Standardize the features\n",
    "scaler = StandardScaler()\n",
    "X_train_scaled = scaler.fit_transform(X_train)\n",
    "X_test_scaled = scaler.transform(X_test)"
   ]
  },
  {
   "cell_type": "code",
   "execution_count": 63,
   "metadata": {},
   "outputs": [],
   "source": [
    "from sklearn.linear_model import LogisticRegression\n",
    "\n",
    "model = LogisticRegression(random_state=42) "
   ]
  },
  {
   "cell_type": "code",
   "execution_count": 64,
   "metadata": {},
   "outputs": [],
   "source": [
    "# Train the model\n",
    "model.fit(X_train_scaled, y_train)\n",
    "\n",
    "# Make predictions\n",
    "y_pred = model.predict(X_test_scaled)"
   ]
  },
  {
   "cell_type": "code",
   "execution_count": 65,
   "metadata": {},
   "outputs": [
    {
     "name": "stdout",
     "output_type": "stream",
     "text": [
      "Accuracy: 0.81\n"
     ]
    }
   ],
   "source": [
    "from sklearn.metrics import accuracy_score, classification_report\n",
    "\n",
    "# Evaluate the model\n",
    "accuracy = accuracy_score(y_test, y_pred)\n",
    "print(f\"Accuracy: {accuracy:.2f}\")"
   ]
  },
  {
   "cell_type": "code",
   "execution_count": 66,
   "metadata": {},
   "outputs": [
    {
     "name": "stdout",
     "output_type": "stream",
     "text": [
      "\n",
      "Classification Report:\n",
      "              precision    recall  f1-score   support\n",
      "\n",
      "           0       0.82      0.99      0.90       864\n",
      "           1       0.33      0.02      0.03       193\n",
      "\n",
      "    accuracy                           0.81      1057\n",
      "   macro avg       0.58      0.50      0.46      1057\n",
      "weighted avg       0.73      0.81      0.74      1057\n",
      "\n"
     ]
    }
   ],
   "source": [
    "# Print detailed classification report\n",
    "print(\"\\nClassification Report:\")\n",
    "print(classification_report(y_test, y_pred))"
   ]
  },
  {
   "cell_type": "code",
   "execution_count": 67,
   "metadata": {},
   "outputs": [
    {
     "name": "stdout",
     "output_type": "stream",
     "text": [
      "990\n",
      "4293\n",
      "5283\n"
     ]
    }
   ],
   "source": [
    "len(df['high_rating'])\n",
    "\n",
    "up=0\n",
    "down=0\n",
    "for i in df[\"high_rating\"]:\n",
    "    # Counting 0's and 1's to check the balancing of the data\n",
    "    if i == 1:\n",
    "        up+=1\n",
    "    else:\n",
    "        down+=1\n",
    "print(up)   \n",
    "print(down)\n",
    "print(up+down)"
   ]
  },
  {
   "cell_type": "markdown",
   "metadata": {},
   "source": [
    "The fact that the dataset is not balanced biases the training (there are many more 0 than 1)"
   ]
  },
  {
   "cell_type": "markdown",
   "metadata": {},
   "source": [
    "Too few input parameters to adequately estimate y; increasing this number could improve the result. We could have more variables, like actors, directors, etc."
   ]
  }
 ],
 "metadata": {
  "kernelspec": {
   "display_name": "Python 3",
   "language": "python",
   "name": "python3"
  },
  "language_info": {
   "codemirror_mode": {
    "name": "ipython",
    "version": 3
   },
   "file_extension": ".py",
   "mimetype": "text/x-python",
   "name": "python",
   "nbconvert_exporter": "python",
   "pygments_lexer": "ipython3",
   "version": "3.13.2"
  }
 },
 "nbformat": 4,
 "nbformat_minor": 2
}
